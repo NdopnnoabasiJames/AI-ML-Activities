{
 "cells": [
  {
   "cell_type": "code",
   "execution_count": 1,
   "id": "7ce1a7ea",
   "metadata": {},
   "outputs": [],
   "source": [
    "import pandas as pd\n",
    "import numpy as np\n"
   ]
  },
  {
   "cell_type": "code",
   "execution_count": 7,
   "id": "f5743b52",
   "metadata": {},
   "outputs": [],
   "source": [
    "def generate_sales_data():\n",
    "    \"\"\"Generate sample sales data with datetime index\"\"\"\n",
    "    np.random.seed(42)\n",
    "    dates = pd.date_range('2023-01-01', '2023-12-31', freq='D')\n",
    "    \n",
    "    data = {\n",
    "        'sales': np.random.poisson(100, size=len(dates)) * \n",
    "                (1 + 0.5 * np.sin(2 * np.pi * np.arange(len(dates)) / 30)) +\n",
    "                np.random.normal(0, 10, size=len(dates)),\n",
    "        'visitors': np.random.poisson(50, size=len(dates)) * \n",
    "                   (1 + 0.3 * np.sin(2 * np.pi * np.arange(len(dates)) / 7)) +\n",
    "                   np.random.normal(0, 5, size=len(dates)),\n",
    "        'promotion': np.random.choice([0, 1], size=len(dates), p=[0.8, 0.2])\n",
    "    }\n",
    "    \n",
    "    df = pd.DataFrame(data, index=dates)\n",
    "\n",
    "        # Add weekly seasonality\n",
    "    df['sales'] = df['sales'] * (1 + 0.2 * np.sin(2 * np.pi * df.index.dayofweek / 7))\n",
    "    \n",
    "    # Add some missing values\n",
    "    mask = np.random.random(len(df)) < 0.05\n",
    "    df.loc[mask, 'sales'] = np.nan\n",
    "    \n",
    "    return df"
   ]
  },
  {
   "cell_type": "code",
   "execution_count": 8,
   "id": "35866144",
   "metadata": {},
   "outputs": [],
   "source": [
    "def generate_customer_data():\n",
    "    \"\"\"Generate sample customer data\"\"\"\n",
    "    np.random.seed(42)\n",
    "    \n",
    "    categories = ['Electronics', 'Clothing', 'Home', 'Food', 'Other']\n",
    "    regions = ['North', 'South', 'East', 'West']\n",
    "    \n",
    "    data = {\n",
    "        'customer_id': range(1, 1001),\n",
    "        'age': np.random.normal(35, 10, 1000).astype(int).clip(18, 80),\n",
    "        'income': np.random.lognormal(10, 0.4, 1000).astype(int),\n",
    "        'category': np.random.choice(categories, 1000, p=[0.3, 0.25, 0.2, 0.15, 0.1]),\n",
    "        'region': np.random.choice(regions, 1000),\n",
    "        'loyalty_score': np.random.beta(2, 5, 1000) * 100\n",
    "    }\n",
    "    \n",
    "    return pd.DataFrame(data)\n"
   ]
  },
  {
   "cell_type": "code",
   "execution_count": 9,
   "id": "3e6caa7e",
   "metadata": {},
   "outputs": [],
   "source": [
    "def generate_stock_data():\n",
    "    \"\"\"Generate sample stock price data\"\"\"\n",
    "    np.random.seed(42)\n",
    "    \n",
    "    # Generate random walk for stock prices\n",
    "    n_days = 252  # Trading days in a year\n",
    "    returns = np.random.normal(0.0005, 0.02, n_days)\n",
    "    prices = 100 * np.exp(np.cumsum(returns))\n",
    "    \n",
    "    # Create date range (business days only)\n",
    "    dates = pd.bdate_range('2023-01-01', periods=n_days)\n",
    "    \n",
    "    # Create DataFrame\n",
    "    df = pd.DataFrame({\n",
    "        'price': prices,\n",
    "        'volume': np.random.lognormal(8, 1, n_days).astype(int)\n",
    "    }, index=dates)\n",
    "    \n",
    "    # Add some features\n",
    "    df['returns'] = df['price'].pct_change()\n",
    "    df['volatility'] = df['returns'].rolling(20).std() * np.sqrt(252)  # Annualized\n",
    "    \n",
    "    return df"
   ]
  },
  {
   "cell_type": "code",
   "execution_count": 11,
   "id": "0161d5cf",
   "metadata": {},
   "outputs": [
    {
     "name": "stdout",
     "output_type": "stream",
     "text": [
      "Sample datasets generated and saved to resources/\n",
      "- Sales data: 365 days\n",
      "- Customer data: 1000 customers\n",
      "- Stock data: 252 trading days\n"
     ]
    }
   ],
   "source": [
    "if __name__ == \"__main__\":\n",
    "    # Generate and save sample datasets\n",
    "    sales_df = generate_sales_data()\n",
    "    customer_df = generate_customer_data()\n",
    "    stock_df = generate_stock_data()\n",
    "    \n",
    "    # Save to CSV\n",
    "    sales_df.to_csv('sales_data.csv')\n",
    "    customer_df.to_csv('customer_data.csv')\n",
    "    stock_df.to_csv('stock_data.csv')\n",
    "    \n",
    "    print(\"Sample datasets generated and saved to resources/\")\n",
    "    print(f\"- Sales data: {len(sales_df)} days\")\n",
    "    print(f\"- Customer data: {len(customer_df)} customers\")\n",
    "    print(f\"- Stock data: {len(stock_df)} trading days\")"
   ]
  },
  {
   "cell_type": "code",
   "execution_count": null,
   "id": "33f85da4",
   "metadata": {},
   "outputs": [],
   "source": []
  }
 ],
 "metadata": {
  "kernelspec": {
   "display_name": "base",
   "language": "python",
   "name": "python3"
  },
  "language_info": {
   "codemirror_mode": {
    "name": "ipython",
    "version": 3
   },
   "file_extension": ".py",
   "mimetype": "text/x-python",
   "name": "python",
   "nbconvert_exporter": "python",
   "pygments_lexer": "ipython3",
   "version": "3.13.5"
  }
 },
 "nbformat": 4,
 "nbformat_minor": 5
}
