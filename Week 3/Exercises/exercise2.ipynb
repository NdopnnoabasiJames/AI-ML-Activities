{
 "cells": [
  {
   "cell_type": "markdown",
   "id": "29e0ce0c",
   "metadata": {},
   "source": [
    "# Exercise 2: Data Visualization with Seaborn\n"
   ]
  },
  {
   "cell_type": "code",
   "execution_count": null,
   "id": "50308bd8",
   "metadata": {},
   "outputs": [],
   "source": [
    "\n",
    "import matplotlib.pyplot as plt\n",
    "import seaborn as sns\n",
    "import plotly.express as px\n",
    "import pandas as pd\n",
    "import numpy as np\n",
    "\n",
    "# Sample data\n",
    "tips = sns.load_dataset('tips')\n",
    "print(tips.head(30))"
   ]
  },
  {
   "cell_type": "markdown",
   "id": "4cd46fef",
   "metadata": {},
   "source": [
    "### Task 1: Create a customized Matplotlib plot\n"
   ]
  },
  {
   "cell_type": "code",
   "execution_count": null,
   "id": "5c071f85",
   "metadata": {},
   "outputs": [],
   "source": [
    "# Your task: Create a scatter plot of total_bill vs tip with the following customizations:\n",
    "# - Different colors for each day\n",
    "# - Add title and axis labels\n",
    "# - Add a legend\n",
    "# - Set figure size to (10, 6)\n",
    "# Your code here\n",
    "\n",
    "plt.figure(figsize=(10, 6))\n",
    "sns.scatterplot(data=tips, x='total_bill', y='tip', hue='day', palette='deep')\n",
    "plt.title('Total Bill vs Tip')\n",
    "plt.xlabel('Total Bill')\n",
    "plt.ylabel('Tip')\n",
    "plt.legend(title='Day')\n",
    "plt.show()\n",
    "\n",
    "\n"
   ]
  },
  {
   "cell_type": "markdown",
   "id": "43cbd5d7",
   "metadata": {},
   "source": [
    "### Task 2: Create a Seaborn visualization"
   ]
  },
  {
   "cell_type": "code",
   "execution_count": 15,
   "id": "7b738726",
   "metadata": {},
   "outputs": [
    {
     "data": {
      "image/png": "[encoded data removed]",
      "text/plain": [
       "<Figure size 1200x600 with 1 Axes>"
      ]
     },
     "metadata": {},
     "output_type": "display_data"
    }
   ],
   "source": [
    "# Create a box plot showing distribution of total_bill by day and time\n",
    "# - Use hue for 'time' (lunch/dinner)\n",
    "# - Add appropriate title and labels\n",
    "# - Set figure size to (12, 6)\n",
    "# Your code here\n",
    "\n",
    "plt.figure(figsize=(12, 6))\n",
    "sns.boxplot(data=tips, x='day', y='total_bill', hue='time', palette='Set2')\n",
    "plt.title('Distribution of Total Bill by Day and Time') \n",
    "plt.xlabel('Day')\n",
    "plt.ylabel('Total Bill')\n",
    "plt.legend(title='Time')\n",
    "plt.show()"
   ]
  },
  {
   "cell_type": "markdown",
   "id": "15f80b11",
   "metadata": {},
   "source": [
    "### Task 3: Create an interactive Plotly visualization\n"
   ]
  },
  {
   "cell_type": "code",
   "execution_count": 18,
   "id": "ef87be2d",
   "metadata": {},
   "outputs": [
    {
     "data": {
      "application/vnd.plotly.v1+json": {
       "config": {
        "plotlyServerURL": "https://plot.ly"
       },
       "data": [
        {
         "customdata": [
          [
           "Sun",
           "Dinner"
          ],
          [
           "Sun",
           "Dinner"
          ],
          [
           "Sun",
           "Dinner"
          ],
          [
           "Sun",
           "Dinner"
          ],
          [
           "Sun",
           "Dinner"
          ],
          [
           "Sun",
           "Dinner"
          ],
          [
           "Sun",
           "Dinner"
          ],
          [
           "Sun",
           "Dinner"
          ],
          [
           "Sun",
           "Dinner"
          ],
          [
           "Sun",
           "Dinner"
          ],
          [
           "Sun",
           "Dinner"
          ],
          [
           "Sun",
           "Dinner"
          ],
          [
           "Sun",
           "Dinner"
          ],
          [
           "Sun",
           "Dinner"
          ],
          [
           "Sun",
           "Dinner"
          ],
          [
           "Sun",
           "Dinner"
          ],
          [
           "Sun",
           "Dinner"
          ],
          [
           "Sun",
           "Dinner"
          ],
          [
           "Sun",
           "Dinner"
          ],
          [
           "Sat",
           "Dinner"
          ],
          [
           "Sat",
           "Dinner"
          ],
          [
           "Sat",
           "Dinner"
          ],
          [
           "Sat",
           "Dinner"
          ],
          [
           "Sat",
           "Dinner"
          ],
          [
           "Sat",
           "Dinner"
          ],
          [
           "Sat",
           "Dinner"
          ],
          [
           "Sat",
           "Dinner"
          ],
          [
           "Sat",
           "Dinner"
          ],
          [
           "Sat",
           "Dinner"
          ],
          [
           "Sat",
           "Dinner"
          ],
          [
           "Sat",
           "Dinner"
          ],
          [
           "Sat",
           "Dinner"
          ],
          [
           "Sat",
           "Dinner"
          ],
          [
           "Sat",
           "Dinner"
          ],
          [
           "Sat",
           "Dinner"
          ],
          [
           "Sat",
           "Dinner"
          ],
          [
           "Sat",
           "Dinner"
          ],
          [
           "Sat",
           "Dinner"
          ],
          [
           "Sat",
           "Dinner"
          ],
          [
           "Sat",
           "Dinner"
          ],
          [
           "Sat",
           "Dinner"
          ],
          [
           "Sun",
           "Dinner"
          ],
          [
           "Sun",
           "Dinner"
          ],
          [
           "Sun",
           "Dinner"
          ],
          [
           "Sun",
           "Dinner"
          ],
          [
           "Sun",
           "Dinner"
          ],
          [
           "Sun",
           "Dinner"
          ],
          [
           "Sun",
           "Dinner"
          ],
          [
           "Sun",
           "Dinner"
          ],
          [
           "Sun",
           "Dinner"
          ],
          [
           "Sun",
           "Dinner"
          ],
          [
           "Sun",
           "Dinner"
          ],
          [
           "Sun",
           "Dinner"
          ],
          [
           "Sun",
           "Dinner"
          ],
          [
           "Sun",
           "Dinner"
          ],
          [
           "Sun",
           "Dinner"
          ],
          [
           "Sat",
           "Dinner"
          ],
          [
           "Sat",
           "Dinner"
          ],
          [
           "Sat",
           "Dinner"
          ],
          [
           "Sat",
           "Dinner"
          ],
          [
           "Sat",
           "Dinner"
          ],
          [
           "Sat",
           "Dinner"
          ],
          [
           "Sat",
           "Dinner"
          ],
          [
           "Sat",
           "Dinner"
          ],
          [
           "Sat",
           "Dinner"
          ],
          [
           "Sat",
           "Dinner"
          ],
          [
           "Thur",
           "Lunch"
          ],
          [
           "Thur",
           "Lunch"
          ],
          [
           "Thur",
           "Lunch"
          ],
          [
           "Thur",
           "Lunch"
          ],
          [
           "Thur",
           "Lunch"
          ],
          [
           "Thur",
           "Lunch"
          ],
          [
           "Thur",
           "Lunch"
          ],
          [
           "Thur",
           "Lunch"
          ],
          [
           "Thur",
           "Lunch"
          ],
          [
           "Thur",
           "Lunch"
          ],
          [
           "Thur",
           "Lunch"
          ],
          [
           "Fri",
           "Dinner"
          ],
          [
           "Fri",
           "Dinner"
          ],
          [
           "Fri",
           "Dinner"
          ],
          [
           "Sat",
           "Dinner"
          ],
          [
           "Sat",
           "Dinner"
          ],
          [
           "Sat",
           "Dinner"
          ],
          [
           "Sat",
           "Dinner"
          ],
          [
           "Sun",
           "Dinner"
          ],
          [
           "Sun",
           "Dinner"
          ],
          [
           "Sun",
           "Dinner"
          ],
          [
           "Sun",
           "Dinner"
          ],
          [
           "Sun",
           "Dinner"
          ],
          [
           "Thur",
           "Lunch"
          ],
          [
           "Thur",
           "Lunch"
          ],
          [
           "Thur",
           "Lunch"
          ],
          [
           "Thur",
           "Lunch"
          ],
          [
           "Thur",
           "Lunch"
          ],
          [
           "Thur",
           "Lunch"
          ],
          [
           "Thur",
           "Lunch"
          ],
          [
           "Thur",
           "Lunch"
          ],
          [
           "Thur",
           "Lunch"
          ],
          [
           "Thur",
           "Lunch"
          ],
          [
           "Thur",
           "Lunch"
          ],
          [
           "Thur",
           "Lunch"
          ],
          [
           "Thur",
           "Lunch"
          ],
          [
           "Thur",
           "Lunch"
          ],
          [
           "Thur",
           "Lunch"
          ],
          [
           "Thur",
           "Lunch"
          ],
          [
           "Thur",
           "Lunch"
          ],
          [
           "Thur",
           "Lunch"
          ],
          [
           "Thur",
           "Lunch"
          ],
          [
           "Thur",
           "Lunch"
          ],
          [
           "Thur",
           "Lunch"
          ],
          [
           "Thur",
           "Lunch"
          ],
          [
           "Thur",
           "Lunch"
          ],
          [
           "Thur",
           "Lunch"
          ],
          [
           "Thur",
           "Lunch"
          ],
          [
           "Thur",
           "Lunch"
          ],
          [
           "Thur",
           "Lunch"
          ],
          [
           "Thur",
           "Lunch"
          ],
          [
           "Thur",
           "Lunch"
          ],
          [
           "Thur",
           "Lunch"
          ],
          [
           "Thur",
           "Lunch"
          ],
          [
           "Thur",
           "Lunch"
          ],
          [
           "Sun",
           "Dinner"
          ],
          [
           "Sun",
           "Dinner"
          ],
          [
           "Sun",
           "Dinner"
          ],
          [
           "Sun",
           "Dinner"
          ],
          [
           "Sun",
           "Dinner"
          ],
          [
           "Sun",
           "Dinner"
          ],
          [
           "Sun",
           "Dinner"
          ],
          [
           "Sun",
           "Dinner"
          ],
          [
           "Sun",
           "Dinner"
          ],
          [
           "Sun",
           "Dinner"
          ],
          [
           "Sun",
           "Dinner"
          ],
          [
           "Sun",
           "Dinner"
          ],
          [
           "Sun",
           "Dinner"
          ],
          [
           "Sun",
           "Dinner"
          ],
          [
           "Sun",
           "Dinner"
          ],
          [
           "Sun",
           "Dinner"
          ],
          [
           "Sun",
           "Dinner"
          ],
          [
           "Sun",
           "Dinner"
          ],
          [
           "Thur",
           "Lunch"
          ],
          [
           "Sat",
           "Dinner"
          ],
          [
           "Fri",
           "Lunch"
          ],
          [
           "Sat",
           "Dinner"
          ],
          [
           "Sat",
           "Dinner"
          ],
          [
           "Sat",
           "Dinner"
          ],
          [
           "Sat",
           "Dinner"
          ],
          [
           "Sat",
           "Dinner"
          ],
          [
           "Sat",
           "Dinner"
          ],
          [
           "Sat",
           "Dinner"
          ],
          [
           "Sat",
           "Dinner"
          ],
          [
           "Thur",
           "Dinner"
          ]
         ],
         "hovertemplate": "smoker=No<br>total_bill=%{x}<br>tip=%{y}<br>size=%{marker.size}<br>day=%{customdata[0]}<br>time=%{customdata[1]}<extra></extra>",
         "legendgroup": "No",
         "marker": {
          "color": "#636efa",
          "size": [
           2,
           3,
           3,
           2,
           4,
           4,
           2,
           4,
           2,
           2,
           2,
           4,
           2,
           4,
           2,
           2,
           3,
           3,
           3,
           3,
           2,
           2,
           2,
           4,
           2,
           4,
           2,
           2,
           2,
           2,
           2,
           4,
           2,
           4,
           2,
           3,
           3,
           3,
           3,
           3,
           3,
           2,
           2,
           2,
           4,
           2,
           2,
           4,
           3,
           2,
           2,
           2,
           4,
           2,
           4,
           2,
           2,
           4,
           3,
           3,
           2,
           2,
           2,
           3,
           2,
           2,
           4,
           2,
           2,
           2,
           1,
           2,
           4,
           2,
           2,
           2,
           2,
           2,
           2,
           2,
           2,
           2,
           2,
           1,
           3,
           2,
           3,
           2,
           4,
           2,
           2,
           4,
           2,
           2,
           2,
           2,
           2,
           6,
           2,
           2,
           2,
           3,
           2,
           2,
           2,
           2,
           2,
           2,
           2,
           2,
           2,
           2,
           6,
           5,
           6,
           2,
           2,
           3,
           2,
           2,
           2,
           2,
           2,
           3,
           4,
           4,
           5,
           6,
           4,
           2,
           4,
           4,
           2,
           3,
           2,
           3,
           2,
           4,
           5,
           2,
           4,
           3,
           4,
           2,
           2,
           2,
           2,
           3,
           3,
           2,
           2
          ],
          "sizemode": "area",
          "sizeref": 0.015,
          "symbol": "circle"
         },
         "mode": "markers",
         "name": "No",
         "orientation": "v",
         "showlegend": true,
         "type": "scatter",
         "x": [
          16.99,
          10.34,
          21.01,
          23.68,
          24.59,
          25.29,
          8.77,
          26.88,
          15.04,
          14.78,
          10.27,
          35.26,
          15.42,
          18.43,
          14.83,
          21.58,
          10.33,
          16.29,
          16.97,
          20.65,
          17.92,
          20.29,
          15.77,
          39.42,
          19.82,
          17.81,
          13.37,
          12.69,
          21.7,
          19.65,
          9.55,
          18.35,
          15.06,
          20.69,
          17.78,
          24.06,
          16.31,
          16.93,
          18.69,
          31.27,
          16.04,
          17.46,
          13.94,
          9.68,
          30.4,
          18.29,
          22.23,
          32.4,
          28.55,
          18.04,
          12.54,
          10.29,
          34.81,
          9.94,
          25.56,
          19.49,
          26.41,
          48.27,
          17.59,
          20.08,
          16.45,
          20.23,
          12.02,
          17.07,
          14.73,
          10.51,
          27.2,
          22.76,
          17.29,
          16.66,
          10.07,
          15.98,
          34.83,
          13.03,
          18.28,
          24.71,
          21.16,
          22.49,
          22.75,
          12.46,
          20.92,
          18.24,
          14,
          7.25,
          38.07,
          23.95,
          25.71,
          17.31,
          29.93,
          10.65,
          12.43,
          24.08,
          11.69,
          13.42,
          14.26,
          15.95,
          12.48,
          29.8,
          8.52,
          14.52,
          11.38,
          22.82,
          19.08,
          20.27,
          11.17,
          12.26,
          18.26,
          8.51,
          10.33,
          14.15,
          13.16,
          17.47,
          34.3,
          41.19,
          27.05,
          16.43,
          8.35,
          18.64,
          11.87,
          9.78,
          7.51,
          14.07,
          13.13,
          17.26,
          24.55,
          19.77,
          29.85,
          48.17,
          25,
          13.39,
          16.49,
          21.5,
          12.66,
          16.21,
          13.81,
          24.52,
          20.76,
          31.71,
          20.69,
          7.56,
          48.33,
          15.98,
          20.45,
          13.28,
          11.61,
          10.77,
          10.07,
          35.83,
          29.03,
          17.82,
          18.78
         ],
         "xaxis": "x",
         "y": [
          1.01,
          1.66,
          3.5,
          3.31,
          3.61,
          4.71,
          2,
          3.12,
          1.96,
          3.23,
          1.71,
          5,
          1.57,
          3,
          3.02,
          3.92,
          1.67,
          3.71,
          3.5,
          3.35,
          4.08,
          2.75,
          2.23,
          7.58,
          3.18,
          2.34,
          2,
          2,
          4.3,
          3,
          1.45,
          2.5,
          3,
          2.45,
          3.27,
          3.6,
          2,
          3.07,
          2.31,
          5,
          2.24,
          2.54,
          3.06,
          1.32,
          5.6,
          3,
          5,
          6,
          2.05,
          3,
          2.5,
          2.6,
          5.2,
          1.56,
          4.34,
          3.51,
          1.5,
          6.73,
          2.64,
          3.15,
          2.47,
          2.01,
          1.97,
          3,
          2.2,
          1.25,
          4,
          3,
          2.71,
          3.4,
          1.83,
          2.03,
          5.17,
          2,
          4,
          5.85,
          3,
          3.5,
          3.25,
          1.5,
          4.08,
          3.76,
          3,
          1,
          4,
          2.55,
          4,
          3.5,
          5.07,
          1.5,
          1.8,
          2.92,
          2.31,
          1.68,
          2.5,
          2,
          2.52,
          4.2,
          1.48,
          2,
          2,
          2.18,
          1.5,
          2.83,
          1.5,
          2,
          3.25,
          1.25,
          2,
          2,
          2.75,
          3.5,
          6.7,
          5,
          5,
          2.3,
          1.5,
          1.36,
          1.63,
          1.73,
          2,
          2.5,
          2,
          2.74,
          2,
          2,
          5.14,
          5,
          3.75,
          2.61,
          2,
          3.5,
          2.5,
          2,
          2,
          3.48,
          2.24,
          4.5,
          5,
          1.44,
          9,
          3,
          3,
          2.72,
          3.39,
          1.47,
          1.25,
          4.67,
          5.92,
          1.75,
          3
         ],
         "yaxis": "y"
        },
        {
         "customdata": [
          [
           "Sat",
           "Dinner"
          ],
          [
           "Sat",
           "Dinner"
          ],
          [
           "Sat",
           "Dinner"
          ],
          [
           "Sat",
           "Dinner"
          ],
          [
           "Sat",
           "Dinner"
          ],
          [
           "Sat",
           "Dinner"
          ],
          [
           "Sat",
           "Dinner"
          ],
          [
           "Sat",
           "Dinner"
          ],
          [
           "Sat",
           "Dinner"
          ],
          [
           "Sat",
           "Dinner"
          ],
          [
           "Sat",
           "Dinner"
          ],
          [
           "Thur",
           "Lunch"
          ],
          [
           "Thur",
           "Lunch"
          ],
          [
           "Fri",
           "Dinner"
          ],
          [
           "Fri",
           "Dinner"
          ],
          [
           "Fri",
           "Dinner"
          ],
          [
           "Fri",
           "Dinner"
          ],
          [
           "Fri",
           "Dinner"
          ],
          [
           "Fri",
           "Dinner"
          ],
          [
           "Fri",
           "Dinner"
          ],
          [
           "Fri",
           "Dinner"
          ],
          [
           "Fri",
           "Dinner"
          ],
          [
           "Sat",
           "Dinner"
          ],
          [
           "Sat",
           "Dinner"
          ],
          [
           "Sat",
           "Dinner"
          ],
          [
           "Sat",
           "Dinner"
          ],
          [
           "Sat",
           "Dinner"
          ],
          [
           "Sat",
           "Dinner"
          ],
          [
           "Thur",
           "Lunch"
          ],
          [
           "Sun",
           "Dinner"
          ],
          [
           "Sat",
           "Dinner"
          ],
          [
           "Sat",
           "Dinner"
          ],
          [
           "Sat",
           "Dinner"
          ],
          [
           "Sat",
           "Dinner"
          ],
          [
           "Sun",
           "Dinner"
          ],
          [
           "Sun",
           "Dinner"
          ],
          [
           "Sun",
           "Dinner"
          ],
          [
           "Sun",
           "Dinner"
          ],
          [
           "Sun",
           "Dinner"
          ],
          [
           "Sun",
           "Dinner"
          ],
          [
           "Sun",
           "Dinner"
          ],
          [
           "Sun",
           "Dinner"
          ],
          [
           "Sun",
           "Dinner"
          ],
          [
           "Sun",
           "Dinner"
          ],
          [
           "Sun",
           "Dinner"
          ],
          [
           "Sun",
           "Dinner"
          ],
          [
           "Sun",
           "Dinner"
          ],
          [
           "Sun",
           "Dinner"
          ],
          [
           "Sun",
           "Dinner"
          ],
          [
           "Sun",
           "Dinner"
          ],
          [
           "Sun",
           "Dinner"
          ],
          [
           "Sun",
           "Dinner"
          ],
          [
           "Thur",
           "Lunch"
          ],
          [
           "Thur",
           "Lunch"
          ],
          [
           "Thur",
           "Lunch"
          ],
          [
           "Thur",
           "Lunch"
          ],
          [
           "Thur",
           "Lunch"
          ],
          [
           "Thur",
           "Lunch"
          ],
          [
           "Thur",
           "Lunch"
          ],
          [
           "Thur",
           "Lunch"
          ],
          [
           "Thur",
           "Lunch"
          ],
          [
           "Thur",
           "Lunch"
          ],
          [
           "Thur",
           "Lunch"
          ],
          [
           "Thur",
           "Lunch"
          ],
          [
           "Thur",
           "Lunch"
          ],
          [
           "Thur",
           "Lunch"
          ],
          [
           "Sat",
           "Dinner"
          ],
          [
           "Sat",
           "Dinner"
          ],
          [
           "Sat",
           "Dinner"
          ],
          [
           "Sat",
           "Dinner"
          ],
          [
           "Sat",
           "Dinner"
          ],
          [
           "Sat",
           "Dinner"
          ],
          [
           "Sat",
           "Dinner"
          ],
          [
           "Sat",
           "Dinner"
          ],
          [
           "Sat",
           "Dinner"
          ],
          [
           "Sat",
           "Dinner"
          ],
          [
           "Sat",
           "Dinner"
          ],
          [
           "Sat",
           "Dinner"
          ],
          [
           "Sat",
           "Dinner"
          ],
          [
           "Fri",
           "Lunch"
          ],
          [
           "Fri",
           "Lunch"
          ],
          [
           "Fri",
           "Lunch"
          ],
          [
           "Fri",
           "Lunch"
          ],
          [
           "Fri",
           "Lunch"
          ],
          [
           "Fri",
           "Lunch"
          ],
          [
           "Sat",
           "Dinner"
          ],
          [
           "Sat",
           "Dinner"
          ],
          [
           "Sat",
           "Dinner"
          ],
          [
           "Sat",
           "Dinner"
          ],
          [
           "Sat",
           "Dinner"
          ],
          [
           "Sat",
           "Dinner"
          ],
          [
           "Sat",
           "Dinner"
          ],
          [
           "Sat",
           "Dinner"
          ]
         ],
         "hovertemplate": "smoker=Yes<br>total_bill=%{x}<br>tip=%{y}<br>size=%{marker.size}<br>day=%{customdata[0]}<br>time=%{customdata[1]}<extra></extra>",
         "legendgroup": "Yes",
         "marker": {
          "color": "#EF553B",
          "size": [
           4,
           2,
           2,
           2,
           2,
           4,
           1,
           2,
           2,
           2,
           2,
           2,
           2,
           2,
           2,
           2,
           4,
           2,
           2,
           2,
           2,
           2,
           3,
           2,
           2,
           2,
           2,
           2,
           2,
           2,
           2,
           2,
           3,
           2,
           2,
           2,
           2,
           2,
           2,
           2,
           2,
           2,
           4,
           2,
           3,
           4,
           2,
           3,
           5,
           3,
           3,
           2,
           2,
           2,
           2,
           2,
           2,
           4,
           2,
           2,
           3,
           2,
           2,
           2,
           4,
           3,
           3,
           4,
           2,
           2,
           3,
           4,
           2,
           3,
           2,
           5,
           2,
           2,
           4,
           2,
           2,
           1,
           2,
           2,
           2,
           2,
           4,
           3,
           2,
           2,
           2,
           2,
           2
          ],
          "sizemode": "area",
          "sizeref": 0.015,
          "symbol": "circle"
         },
         "mode": "markers",
         "name": "Yes",
         "orientation": "v",
         "showlegend": true,
         "type": "scatter",
         "x": [
          38.01,
          11.24,
          20.29,
          13.81,
          11.02,
          18.29,
          3.07,
          15.01,
          26.86,
          25.28,
          17.92,
          19.44,
          32.68,
          28.97,
          5.75,
          16.32,
          40.17,
          27.28,
          12.03,
          21.01,
          11.35,
          15.38,
          44.3,
          22.42,
          15.36,
          20.49,
          25.21,
          14.31,
          16,
          17.51,
          10.59,
          10.63,
          50.81,
          15.81,
          7.25,
          31.85,
          16.82,
          32.9,
          17.89,
          14.48,
          9.6,
          34.63,
          34.65,
          23.33,
          45.35,
          23.17,
          40.55,
          20.9,
          30.46,
          18.15,
          23.1,
          15.69,
          19.81,
          28.44,
          15.48,
          16.58,
          10.34,
          43.11,
          13,
          13.51,
          18.71,
          12.74,
          13,
          16.4,
          20.53,
          16.47,
          26.59,
          38.73,
          24.27,
          12.76,
          30.06,
          25.89,
          13.27,
          28.17,
          12.9,
          28.15,
          11.59,
          7.74,
          30.14,
          12.16,
          13.42,
          8.58,
          13.42,
          16.27,
          10.09,
          22.12,
          24.01,
          15.69,
          15.53,
          12.6,
          32.83,
          27.18,
          22.67
         ],
         "xaxis": "x",
         "y": [
          3,
          1.76,
          3.21,
          2,
          1.98,
          3.76,
          1,
          2.09,
          3.14,
          5,
          3.08,
          3,
          5,
          3,
          1,
          4.3,
          4.73,
          4,
          1.5,
          3,
          2.5,
          3,
          2.5,
          3.48,
          1.64,
          4.06,
          4.29,
          4,
          2,
          3,
          1.61,
          2,
          10,
          3.16,
          5.15,
          3.18,
          4,
          3.11,
          2,
          2,
          4,
          3.55,
          3.68,
          5.65,
          3.5,
          6.5,
          3,
          3.5,
          2,
          3.5,
          4,
          1.5,
          4.19,
          2.56,
          2.02,
          4,
          2,
          5,
          2,
          2,
          4,
          2.01,
          2,
          2.5,
          4,
          3.23,
          3.41,
          3,
          2.03,
          2.23,
          2,
          5.16,
          2.5,
          6.5,
          1.1,
          3,
          1.5,
          1.44,
          3.09,
          2.2,
          3.48,
          1.92,
          1.58,
          2.5,
          2,
          2.88,
          2,
          3,
          3,
          1,
          1.17,
          2,
          2
         ],
         "yaxis": "y"
        }
       ],
       "layout": {
        "legend": {
         "itemsizing": "constant",
         "title": {
          "text": "smoker"
         },
         "tracegroupgap": 0
        },
        "template": {
         "data": {
          "bar": [
           {
            "error_x": {
             "color": "#2a3f5f"
            },
            "error_y": {
             "color": "#2a3f5f"
            },
            "marker": {
             "line": {
              "color": "#E5ECF6",
              "width": 0.5
             },
             "pattern": {
              "fillmode": "overlay",
              "size": 10,
              "solidity": 0.2
             }
            },
            "type": "bar"
           }
          ],
          "barpolar": [
           {
            "marker": {
             "line": {
              "color": "#E5ECF6",
              "width": 0.5
             },
             "pattern": {
              "fillmode": "overlay",
              "size": 10,
              "solidity": 0.2
             }
            },
            "type": "barpolar"
           }
          ],
          "carpet": [
           {
            "aaxis": {
             "endlinecolor": "#2a3f5f",
             "gridcolor": "white",
             "linecolor": "white",
             "minorgridcolor": "white",
             "startlinecolor": "#2a3f5f"
            },
            "baxis": {
             "endlinecolor": "#2a3f5f",
             "gridcolor": "white",
             "linecolor": "white",
             "minorgridcolor": "white",
             "startlinecolor": "#2a3f5f"
            },
            "type": "carpet"
           }
          ],
          "choropleth": [
           {
            "colorbar": {
             "outlinewidth": 0,
             "ticks": ""
            },
            "type": "choropleth"
           }
          ],
          "contour": [
           {
            "colorbar": {
             "outlinewidth": 0,
             "ticks": ""
            },
            "colorscale": [
             [
              0,
              "#0d0887"
             ],
             [
              0.1111111111111111,
              "#46039f"
             ],
             [
              0.2222222222222222,
              "#7201a8"
             ],
             [
              0.3333333333333333,
              "#9c179e"
             ],
             [
              0.4444444444444444,
              "#bd3786"
             ],
             [
              0.5555555555555556,
              "#d8576b"
             ],
             [
              0.6666666666666666,
              "#ed7953"
             ],
             [
              0.7777777777777778,
              "#fb9f3a"
             ],
             [
              0.8888888888888888,
              "#fdca26"
             ],
             [
              1,
              "#f0f921"
             ]
            ],
            "type": "contour"
           }
          ],
          "contourcarpet": [
           {
            "colorbar": {
             "outlinewidth": 0,
             "ticks": ""
            },
            "type": "contourcarpet"
           }
          ],
          "heatmap": [
           {
            "colorbar": {
             "outlinewidth": 0,
             "ticks": ""
            },
            "colorscale": [
             [
              0,
              "#0d0887"
             ],
             [
              0.1111111111111111,
              "#46039f"
             ],
             [
              0.2222222222222222,
              "#7201a8"
             ],
             [
              0.3333333333333333,
              "#9c179e"
             ],
             [
              0.4444444444444444,
              "#bd3786"
             ],
             [
              0.5555555555555556,
              "#d8576b"
             ],
             [
              0.6666666666666666,
              "#ed7953"
             ],
             [
              0.7777777777777778,
              "#fb9f3a"
             ],
             [
              0.8888888888888888,
              "#fdca26"
             ],
             [
              1,
              "#f0f921"
             ]
            ],
            "type": "heatmap"
           }
          ],
          "heatmapgl": [
           {
            "colorbar": {
             "outlinewidth": 0,
             "ticks": ""
            },
            "colorscale": [
             [
              0,
              "#0d0887"
             ],
             [
              0.1111111111111111,
              "#46039f"
             ],
             [
              0.2222222222222222,
              "#7201a8"
             ],
             [
              0.3333333333333333,
              "#9c179e"
             ],
             [
              0.4444444444444444,
              "#bd3786"
             ],
             [
              0.5555555555555556,
              "#d8576b"
             ],
             [
              0.6666666666666666,
              "#ed7953"
             ],
             [
              0.7777777777777778,
              "#fb9f3a"
             ],
             [
              0.8888888888888888,
              "#fdca26"
             ],
             [
              1,
              "#f0f921"
             ]
            ],
            "type": "heatmapgl"
           }
          ],
          "histogram": [
           {
            "marker": {
             "pattern": {
              "fillmode": "overlay",
              "size": 10,
              "solidity": 0.2
             }
            },
            "type": "histogram"
           }
          ],
          "histogram2d": [
           {
            "colorbar": {
             "outlinewidth": 0,
             "ticks": ""
            },
            "colorscale": [
             [
              0,
              "#0d0887"
             ],
             [
              0.1111111111111111,
              "#46039f"
             ],
             [
              0.2222222222222222,
              "#7201a8"
             ],
             [
              0.3333333333333333,
              "#9c179e"
             ],
             [
              0.4444444444444444,
              "#bd3786"
             ],
             [
              0.5555555555555556,
              "#d8576b"
             ],
             [
              0.6666666666666666,
              "#ed7953"
             ],
             [
              0.7777777777777778,
              "#fb9f3a"
             ],
             [
              0.8888888888888888,
              "#fdca26"
             ],
             [
              1,
              "#f0f921"
             ]
            ],
            "type": "histogram2d"
           }
          ],
          "histogram2dcontour": [
           {
            "colorbar": {
             "outlinewidth": 0,
             "ticks": ""
            },
            "colorscale": [
             [
              0,
              "#0d0887"
             ],
             [
              0.1111111111111111,
              "#46039f"
             ],
             [
              0.2222222222222222,
              "#7201a8"
             ],
             [
              0.3333333333333333,
              "#9c179e"
             ],
             [
              0.4444444444444444,
              "#bd3786"
             ],
             [
              0.5555555555555556,
              "#d8576b"
             ],
             [
              0.6666666666666666,
              "#ed7953"
             ],
             [
              0.7777777777777778,
              "#fb9f3a"
             ],
             [
              0.8888888888888888,
              "#fdca26"
             ],
             [
              1,
              "#f0f921"
             ]
            ],
            "type": "histogram2dcontour"
           }
          ],
          "mesh3d": [
           {
            "colorbar": {
             "outlinewidth": 0,
             "ticks": ""
            },
            "type": "mesh3d"
           }
          ],
          "parcoords": [
           {
            "line": {
             "colorbar": {
              "outlinewidth": 0,
              "ticks": ""
             }
            },
            "type": "parcoords"
           }
          ],
          "pie": [
           {
            "automargin": true,
            "type": "pie"
           }
          ],
          "scatter": [
           {
            "fillpattern": {
             "fillmode": "overlay",
             "size": 10,
             "solidity": 0.2
            },
            "type": "scatter"
           }
          ],
          "scatter3d": [
           {
            "line": {
             "colorbar": {
              "outlinewidth": 0,
              "ticks": ""
             }
            },
            "marker": {
             "colorbar": {
              "outlinewidth": 0,
              "ticks": ""
             }
            },
            "type": "scatter3d"
           }
          ],
          "scattercarpet": [
           {
            "marker": {
             "colorbar": {
              "outlinewidth": 0,
              "ticks": ""
             }
            },
            "type": "scattercarpet"
           }
          ],
          "scattergeo": [
           {
            "marker": {
             "colorbar": {
              "outlinewidth": 0,
              "ticks": ""
             }
            },
            "type": "scattergeo"
           }
          ],
          "scattergl": [
           {
            "marker": {
             "colorbar": {
              "outlinewidth": 0,
              "ticks": ""
             }
            },
            "type": "scattergl"
           }
          ],
          "scattermapbox": [
           {
            "marker": {
             "colorbar": {
              "outlinewidth": 0,
              "ticks": ""
             }
            },
            "type": "scattermapbox"
           }
          ],
          "scatterpolar": [
           {
            "marker": {
             "colorbar": {
              "outlinewidth": 0,
              "ticks": ""
             }
            },
            "type": "scatterpolar"
           }
          ],
          "scatterpolargl": [
           {
            "marker": {
             "colorbar": {
              "outlinewidth": 0,
              "ticks": ""
             }
            },
            "type": "scatterpolargl"
           }
          ],
          "scatterternary": [
           {
            "marker": {
             "colorbar": {
              "outlinewidth": 0,
              "ticks": ""
             }
            },
            "type": "scatterternary"
           }
          ],
          "surface": [
           {
            "colorbar": {
             "outlinewidth": 0,
             "ticks": ""
            },
            "colorscale": [
             [
              0,
              "#0d0887"
             ],
             [
              0.1111111111111111,
              "#46039f"
             ],
             [
              0.2222222222222222,
              "#7201a8"
             ],
             [
              0.3333333333333333,
              "#9c179e"
             ],
             [
              0.4444444444444444,
              "#bd3786"
             ],
             [
              0.5555555555555556,
              "#d8576b"
             ],
             [
              0.6666666666666666,
              "#ed7953"
             ],
             [
              0.7777777777777778,
              "#fb9f3a"
             ],
             [
              0.8888888888888888,
              "#fdca26"
             ],
             [
              1,
              "#f0f921"
             ]
            ],
            "type": "surface"
           }
          ],
          "table": [
           {
            "cells": {
             "fill": {
              "color": "#EBF0F8"
             },
             "line": {
              "color": "white"
             }
            },
            "header": {
             "fill": {
              "color": "#C8D4E3"
             },
             "line": {
              "color": "white"
             }
            },
            "type": "table"
           }
          ]
         },
         "layout": {
          "annotationdefaults": {
           "arrowcolor": "#2a3f5f",
           "arrowhead": 0,
           "arrowwidth": 1
          },
          "autotypenumbers": "strict",
          "coloraxis": {
           "colorbar": {
            "outlinewidth": 0,
            "ticks": ""
           }
          },
          "colorscale": {
           "diverging": [
            [
             0,
             "#8e0152"
            ],
            [
             0.1,
             "#c51b7d"
            ],
            [
             0.2,
             "#de77ae"
            ],
            [
             0.3,
             "#f1b6da"
            ],
            [
             0.4,
             "#fde0ef"
            ],
            [
             0.5,
             "#f7f7f7"
            ],
            [
             0.6,
             "#e6f5d0"
            ],
            [
             0.7,
             "#b8e186"
            ],
            [
             0.8,
             "#7fbc41"
            ],
            [
             0.9,
             "#4d9221"
            ],
            [
             1,
             "#276419"
            ]
           ],
           "sequential": [
            [
             0,
             "#0d0887"
            ],
            [
             0.1111111111111111,
             "#46039f"
            ],
            [
             0.2222222222222222,
             "#7201a8"
            ],
            [
             0.3333333333333333,
             "#9c179e"
            ],
            [
             0.4444444444444444,
             "#bd3786"
            ],
            [
             0.5555555555555556,
             "#d8576b"
            ],
            [
             0.6666666666666666,
             "#ed7953"
            ],
            [
             0.7777777777777778,
             "#fb9f3a"
            ],
            [
             0.8888888888888888,
             "#fdca26"
            ],
            [
             1,
             "#f0f921"
            ]
           ],
           "sequentialminus": [
            [
             0,
             "#0d0887"
            ],
            [
             0.1111111111111111,
             "#46039f"
            ],
            [
             0.2222222222222222,
             "#7201a8"
            ],
            [
             0.3333333333333333,
             "#9c179e"
            ],
            [
             0.4444444444444444,
             "#bd3786"
            ],
            [
             0.5555555555555556,
             "#d8576b"
            ],
            [
             0.6666666666666666,
             "#ed7953"
            ],
            [
             0.7777777777777778,
             "#fb9f3a"
            ],
            [
             0.8888888888888888,
             "#fdca26"
            ],
            [
             1,
             "#f0f921"
            ]
           ]
          },
          "colorway": [
           "#636efa",
           "#EF553B",
           "#00cc96",
           "#ab63fa",
           "#FFA15A",
           "#19d3f3",
           "#FF6692",
           "#B6E880",
           "#FF97FF",
           "#FECB52"
          ],
          "font": {
           "color": "#2a3f5f"
          },
          "geo": {
           "bgcolor": "white",
           "lakecolor": "white",
           "landcolor": "#E5ECF6",
           "showlakes": true,
           "showland": true,
           "subunitcolor": "white"
          },
          "hoverlabel": {
           "align": "left"
          },
          "hovermode": "closest",
          "mapbox": {
           "style": "light"
          },
          "paper_bgcolor": "white",
          "plot_bgcolor": "#E5ECF6",
          "polar": {
           "angularaxis": {
            "gridcolor": "white",
            "linecolor": "white",
            "ticks": ""
           },
           "bgcolor": "#E5ECF6",
           "radialaxis": {
            "gridcolor": "white",
            "linecolor": "white",
            "ticks": ""
           }
          },
          "scene": {
           "xaxis": {
            "backgroundcolor": "#E5ECF6",
            "gridcolor": "white",
            "gridwidth": 2,
            "linecolor": "white",
            "showbackground": true,
            "ticks": "",
            "zerolinecolor": "white"
           },
           "yaxis": {
            "backgroundcolor": "#E5ECF6",
            "gridcolor": "white",
            "gridwidth": 2,
            "linecolor": "white",
            "showbackground": true,
            "ticks": "",
            "zerolinecolor": "white"
           },
           "zaxis": {
            "backgroundcolor": "#E5ECF6",
            "gridcolor": "white",
            "gridwidth": 2,
            "linecolor": "white",
            "showbackground": true,
            "ticks": "",
            "zerolinecolor": "white"
           }
          },
          "shapedefaults": {
           "line": {
            "color": "#2a3f5f"
           }
          },
          "ternary": {
           "aaxis": {
            "gridcolor": "white",
            "linecolor": "white",
            "ticks": ""
           },
           "baxis": {
            "gridcolor": "white",
            "linecolor": "white",
            "ticks": ""
           },
           "bgcolor": "#E5ECF6",
           "caxis": {
            "gridcolor": "white",
            "linecolor": "white",
            "ticks": ""
           }
          },
          "title": {
           "x": 0.05
          },
          "xaxis": {
           "automargin": true,
           "gridcolor": "white",
           "linecolor": "white",
           "ticks": "",
           "title": {
            "standoff": 15
           },
           "zerolinecolor": "white",
           "zerolinewidth": 2
          },
          "yaxis": {
           "automargin": true,
           "gridcolor": "white",
           "linecolor": "white",
           "ticks": "",
           "title": {
            "standoff": 15
           },
           "zerolinecolor": "white",
           "zerolinewidth": 2
          }
         }
        },
        "title": {
         "text": "Interactive Scatter Plot of Total Bill vs Tip"
        },
        "xaxis": {
         "anchor": "y",
         "domain": [
          0,
          1
         ],
         "title": {
          "text": "total_bill"
         }
        },
        "yaxis": {
         "anchor": "x",
         "domain": [
          0,
          1
         ],
         "title": {
          "text": "tip"
         }
        }
       }
      }
     },
     "metadata": {},
     "output_type": "display_data"
    }
   ],
   "source": [
    "# Your task: Create an interactive scatter plot with the following features:\n",
    "# - x-axis: total_bill\n",
    "# - y-axis: tip\n",
    "# - Color points by 'smoker'\n",
    "# - Size points by 'size' of the party\n",
    "# - Add hover information showing 'day' and 'time'\n",
    "# - Add a title\n",
    "# Your code here\n",
    "fig = px.scatter(tips, x='total_bill', y='tip', color='smoker', size='size',\n",
    "                 hover_data=['day', 'time'], title='Interactive Scatter Plot of Total Bill vs Tip')\n",
    "\n",
    "fig.show()\n",
    "\n"
   ]
  },
  {
   "cell_type": "markdown",
   "id": "5dc40083",
   "metadata": {},
   "source": [
    "### Part 4: Advanced customization\n"
   ]
  },
  {
   "cell_type": "code",
   "execution_count": 19,
   "id": "18ecd0a4",
   "metadata": {},
   "outputs": [
    {
     "data": {
      "image/png": "[encoded data removed]",
      "text/plain": [
       "<Figure size 1400x600 with 2 Axes>"
      ]
     },
     "metadata": {},
     "output_type": "display_data"
    }
   ],
   "source": [
    "# Your task: Create a figure with 2 subplots:\n",
    "# - Left: A histogram of 'total_bill' with kernel density estimate\n",
    "# - Right: A violin plot of 'total_bill' by 'day'\n",
    "# - Add appropriate titles and labels\n",
    "# Your code here\n",
    "fig, axes = plt.subplots(1, 2, figsize=(14, 6))\n",
    "\n",
    "# Left: Histogram with KDE\n",
    "sns.histplot(tips['total_bill'], kde=True, ax=axes[0])\n",
    "axes[0].set_title('Histogram of Total Bill with KDE')\n",
    "axes[0].set_xlabel('Total Bill')\n",
    "axes[0].set_ylabel('Frequency')\n",
    "\n",
    "# Right: Violin plot by day\n",
    "sns.violinplot(x='day', y='total_bill', data=tips, ax=axes[1])\n",
    "axes[1].set_title('Violin Plot of Total Bill by Day')\n",
    "axes[1].set_xlabel('Day')\n",
    "axes[1].set_ylabel('Total Bill')\n",
    "\n",
    "plt.tight_layout()\n",
    "plt.show()\n"
   ]
  },
  {
   "cell_type": "markdown",
   "id": "e976fccd",
   "metadata": {},
   "source": [
    "### Task 5: Time series visualization\n"
   ]
  },
  {
   "cell_type": "code",
   "execution_count": 20,
   "id": "cdae1c47",
   "metadata": {},
   "outputs": [
    {
     "data": {
      "image/png": "[encoded data removed]",
      "text/plain": [
       "<Figure size 1200x600 with 1 Axes>"
      ]
     },
     "metadata": {},
     "output_type": "display_data"
    }
   ],
   "source": [
    "# Your task: Create a time series line plot with the following data:\n",
    "# - Generate a date range for 30 days\n",
    "# - Create a Series with random walk data (cumulative sum of normal random numbers)\n",
    "# - Add proper labels and title\n",
    "# - Add a horizontal line at y=0\n",
    "# Your code here\n",
    "date_range = pd.date_range(start='2023-01-01', periods=30)\n",
    "data = pd.Series(np.random.randn(30).cumsum(), index=date_range)\n",
    "\n",
    "plt.figure(figsize=(12, 6))\n",
    "plt.plot(data, marker='o')\n",
    "plt.title('Random Walk Time Series')\n",
    "plt.xlabel('Date')\n",
    "plt.ylabel('Value')\n",
    "plt.axhline(0, color='red', linestyle='--')\n",
    "plt.show()\n"
   ]
  },
  {
   "cell_type": "code",
   "execution_count": null,
   "id": "a2295e60",
   "metadata": {},
   "outputs": [],
   "source": []
  }
 ],
 "metadata": {
  "kernelspec": {
   "display_name": "base",
   "language": "python",
   "name": "python3"
  },
  "language_info": {
   "codemirror_mode": {
    "name": "ipython",
    "version": 3
   },
   "file_extension": ".py",
   "mimetype": "text/x-python",
   "name": "python",
   "nbconvert_exporter": "python",
   "pygments_lexer": "ipython3",
   "version": "3.13.5"
  }
 },
 "nbformat": 4,
 "nbformat_minor": 5
}
