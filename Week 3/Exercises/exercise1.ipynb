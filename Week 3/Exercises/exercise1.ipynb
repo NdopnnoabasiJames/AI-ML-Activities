{
 "cells": [
  {
   "cell_type": "markdown",
   "id": "810e6ec3",
   "metadata": {},
   "source": [
    "## Exercise 1: Advanced Pandas Operations\n",
    "\n",
    "This exercise covers advanced operations in Pandas including:\n",
    "- Multi-indexing\n",
    "- Advanced merging\n",
    "- Pivot tables"
   ]
  },
  {
   "cell_type": "code",
   "execution_count": 8,
   "id": "0dac146f",
   "metadata": {},
   "outputs": [
    {
     "data": {
      "text/html": [
       "<div>\n",
       "<style scoped>\n",
       "    .dataframe tbody tr th:only-of-type {\n",
       "        vertical-align: middle;\n",
       "    }\n",
       "\n",
       "    .dataframe tbody tr th {\n",
       "        vertical-align: top;\n",
       "    }\n",
       "\n",
       "    .dataframe thead th {\n",
       "        text-align: right;\n",
       "    }\n",
       "</style>\n",
       "<table border=\"1\" class=\"dataframe\">\n",
       "  <thead>\n",
       "    <tr style=\"text-align: right;\">\n",
       "      <th></th>\n",
       "      <th>date</th>\n",
       "      <th>category</th>\n",
       "      <th>value</th>\n",
       "    </tr>\n",
       "  </thead>\n",
       "  <tbody>\n",
       "    <tr>\n",
       "      <th>0</th>\n",
       "      <td>2023-01-01</td>\n",
       "      <td>A</td>\n",
       "      <td>10</td>\n",
       "    </tr>\n",
       "    <tr>\n",
       "      <th>1</th>\n",
       "      <td>2023-01-02</td>\n",
       "      <td>B</td>\n",
       "      <td>20</td>\n",
       "    </tr>\n",
       "    <tr>\n",
       "      <th>2</th>\n",
       "      <td>2023-01-03</td>\n",
       "      <td>A</td>\n",
       "      <td>30</td>\n",
       "    </tr>\n",
       "    <tr>\n",
       "      <th>3</th>\n",
       "      <td>2023-01-04</td>\n",
       "      <td>B</td>\n",
       "      <td>40</td>\n",
       "    </tr>\n",
       "    <tr>\n",
       "      <th>4</th>\n",
       "      <td>2023-01-05</td>\n",
       "      <td>A</td>\n",
       "      <td>50</td>\n",
       "    </tr>\n",
       "    <tr>\n",
       "      <th>5</th>\n",
       "      <td>2023-01-06</td>\n",
       "      <td>B</td>\n",
       "      <td>60</td>\n",
       "    </tr>\n",
       "  </tbody>\n",
       "</table>\n",
       "</div>"
      ],
      "text/plain": [
       "        date category  value\n",
       "0 2023-01-01        A     10\n",
       "1 2023-01-02        B     20\n",
       "2 2023-01-03        A     30\n",
       "3 2023-01-04        B     40\n",
       "4 2023-01-05        A     50\n",
       "5 2023-01-06        B     60"
      ]
     },
     "execution_count": 8,
     "metadata": {},
     "output_type": "execute_result"
    }
   ],
   "source": [
    "import pandas as pd\n",
    "import numpy as np\n",
    "\n",
    "# Sample data for exercises\n",
    "data1 = {\n",
    "    'date': pd.date_range('2023-01-01', periods=6, freq='D'),\n",
    "    'category': ['A', 'B', 'A', 'B', 'A', 'B'],\n",
    "    'value': [10, 20, 30, 40, 50, 60]\n",
    "}\n",
    "\n",
    "df1 = pd.DataFrame(data1)\n",
    "df1"
   ]
  },
  {
   "cell_type": "code",
   "execution_count": null,
   "id": "ed5b6715",
   "metadata": {},
   "outputs": [],
   "source": []
  },
  {
   "cell_type": "code",
   "execution_count": null,
   "id": "1d699df5",
   "metadata": {},
   "outputs": [],
   "source": [
    "data2 = {\n",
    "    'date': pd.date_range('2023-01-01', periods=6, freq='D'),\n",
    "    'category': ['A', 'B', 'A', 'B', 'A', 'B'],\n",
    "    'price': [100, 200, 150, 250, 120, 180]\n",
    "}\n",
    "\n",
    "df2 = pd.DataFrame(data2)\n",
    "df2"
   ]
  },
  {
   "cell_type": "markdown",
   "id": "595978ec",
   "metadata": {},
   "source": [
    "Create a MultiIndex DataFrame\n",
    "Your code here"
   ]
  },
  {
   "cell_type": "code",
   "execution_count": 9,
   "id": "fcb95aa1",
   "metadata": {},
   "outputs": [
    {
     "name": "stdout",
     "output_type": "stream",
     "text": [
      "                     value\n",
      "category date             \n",
      "A        2023-01-01     10\n",
      "B        2023-01-02     20\n",
      "A        2023-01-03     30\n",
      "B        2023-01-04     40\n",
      "A        2023-01-05     50\n",
      "B        2023-01-06     60\n"
     ]
    }
   ],
   "source": [
    "multindex = df1.set_index(['category', 'date'])\n",
    "\n",
    "print(multindex)"
   ]
  },
  {
   "cell_type": "markdown",
   "id": "90ff91b9",
   "metadata": {},
   "source": [
    "This makes a DataFrame indexed by both date and category."
   ]
  },
  {
   "cell_type": "markdown",
   "id": "d7506e2a",
   "metadata": {},
   "source": [
    "Exercise 2: Merge the two DataFrames on 'date' and 'category'"
   ]
  },
  {
   "cell_type": "code",
   "execution_count": 10,
   "id": "ada9a2fe",
   "metadata": {},
   "outputs": [
    {
     "name": "stdout",
     "output_type": "stream",
     "text": [
      "        date category  value  price\n",
      "0 2023-01-01        A     10    100\n",
      "1 2023-01-02        B     20    200\n",
      "2 2023-01-03        A     30    150\n",
      "3 2023-01-04        B     40    250\n",
      "4 2023-01-05        A     50    120\n",
      "5 2023-01-06        B     60    180\n"
     ]
    }
   ],
   "source": [
    "# We'll merge df1 and df2 on 'date' and 'category'\n",
    "merged_df = pd.merge(df1, df2, on=['date', 'category'])\n",
    "print(merged_df)"
   ]
  },
  {
   "cell_type": "markdown",
   "id": "f3287a40",
   "metadata": {},
   "source": [
    "Now the DataFrame has date, category, value, and price."
   ]
  },
  {
   "cell_type": "code",
   "execution_count": null,
   "id": "a7f23707",
   "metadata": {},
   "outputs": [],
   "source": []
  }
 ],
 "metadata": {
  "kernelspec": {
   "display_name": "base",
   "language": "python",
   "name": "python3"
  },
  "language_info": {
   "codemirror_mode": {
    "name": "ipython",
    "version": 3
   },
   "file_extension": ".py",
   "mimetype": "text/x-python",
   "name": "python",
   "nbconvert_exporter": "python",
   "pygments_lexer": "ipython3",
   "version": "3.13.5"
  }
 },
 "nbformat": 4,
 "nbformat_minor": 5
}
