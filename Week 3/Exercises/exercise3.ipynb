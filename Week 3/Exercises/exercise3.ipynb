{
 "cells": [
  {
   "cell_type": "markdown",
   "id": "ebbed930",
   "metadata": {},
   "source": [
    "# Time Series Analysis\n"
   ]
  },
  {
   "cell_type": "markdown",
   "id": "b07c2302",
   "metadata": {},
   "source": [
    "\n",
    "This exercise covers:\n",
    "- Working with datetime objects\n",
    "- Time-based indexing\n",
    "- Resampling and window operations\n",
    "- Handling missing data in time series\n"
   ]
  },
  {
   "cell_type": "code",
   "execution_count": 1,
   "id": "09e9a2a3",
   "metadata": {},
   "outputs": [],
   "source": [
    "import pandas as pd\n",
    "import numpy as np\n",
    "import matplotlib.pyplot as plt\n",
    "\n",
    "# Generate sample time series data\n",
    "dates = pd.date_range('2023-01-01', periods=100, freq='D')\n",
    "prices = np.random.normal(100, 10, 100).cumsum()\n",
    "df = pd.DataFrame({'date': dates, 'price': prices})\n",
    "df.set_index('date', inplace=True)\n"
   ]
  },
  {
   "cell_type": "code",
   "execution_count": 2,
   "id": "1eac6cdf",
   "metadata": {},
   "outputs": [
    {
     "name": "stdout",
     "output_type": "stream",
     "text": [
      "                  price\n",
      "date                   \n",
      "2023-01-01    89.699418\n",
      "2023-01-02   179.453534\n",
      "2023-01-03   293.268553\n",
      "2023-01-04   393.113896\n",
      "2023-01-05   503.705938\n",
      "...                 ...\n",
      "2023-04-06  9476.870578\n",
      "2023-04-07  9585.528656\n",
      "2023-04-08  9683.920308\n",
      "2023-04-09  9797.833628\n",
      "2023-04-10  9889.787618\n",
      "\n",
      "[100 rows x 1 columns]\n"
     ]
    }
   ],
   "source": [
    "print(df)"
   ]
  },
  {
   "cell_type": "code",
   "execution_count": 3,
   "id": "3f679ffb",
   "metadata": {},
   "outputs": [
    {
     "name": "stdout",
     "output_type": "stream",
     "text": [
      "            price\n",
      "date             \n",
      "2023-01-01     90\n",
      "2023-01-02    179\n",
      "2023-01-03    293\n",
      "2023-01-04    393\n",
      "2023-01-05    504\n",
      "...           ...\n",
      "2023-04-06   9477\n",
      "2023-04-07   9586\n",
      "2023-04-08   9684\n",
      "2023-04-09   9798\n",
      "2023-04-10   9890\n",
      "\n",
      "[100 rows x 1 columns]\n"
     ]
    }
   ],
   "source": [
    "# Round prices to nearest integer and convert to int type\n",
    "df['price'] = df['price'].round().astype(int)\n",
    "print(df)"
   ]
  },
  {
   "cell_type": "markdown",
   "id": "e6d44f96",
   "metadata": {},
   "source": [
    "### Task 1: Resampling\n",
    "Your task: Resample the data to weekly frequency and calculate the mean price for each week\n",
    "Expected: A Series with weekly mean prices"
   ]
  },
  {
   "cell_type": "code",
   "execution_count": 4,
   "id": "47a3c811",
   "metadata": {},
   "outputs": [
    {
     "name": "stdout",
     "output_type": "stream",
     "text": [
      "                  price\n",
      "date                   \n",
      "2023-01-01    90.000000\n",
      "2023-01-08   493.000000\n",
      "2023-01-15  1183.428571\n",
      "2023-01-22  1897.571429\n",
      "2023-01-29  2592.000000\n",
      "2023-02-05  3282.285714\n",
      "2023-02-12  3976.428571\n",
      "2023-02-19  4689.428571\n",
      "2023-02-26  5365.428571\n",
      "2023-03-05  6051.142857\n",
      "2023-03-12  6677.714286\n",
      "2023-03-19  7351.857143\n",
      "2023-03-26  8037.428571\n",
      "2023-04-02  8713.714286\n",
      "2023-04-09  9471.857143\n",
      "2023-04-16  9890.000000\n"
     ]
    }
   ],
   "source": [
    "weekly_mean = df.resample('W').mean()\n",
    "print(weekly_mean)"
   ]
  },
  {
   "cell_type": "markdown",
   "id": "90c1b94e",
   "metadata": {},
   "source": [
    "### Task 2: Rolling windows\n",
    "Your task: Calculate a 7-day rolling average of the price\n",
    "Expected: A Series with the rolling average values"
   ]
  },
  {
   "cell_type": "code",
   "execution_count": 5,
   "id": "e2fce446",
   "metadata": {},
   "outputs": [
    {
     "name": "stdout",
     "output_type": "stream",
     "text": [
      "date\n",
      "2023-01-01            NaN\n",
      "2023-01-02            NaN\n",
      "2023-01-03            NaN\n",
      "2023-01-04            NaN\n",
      "2023-01-05            NaN\n",
      "2023-01-06            NaN\n",
      "2023-01-07     393.857143\n",
      "2023-01-08     493.000000\n",
      "2023-01-09     593.571429\n",
      "2023-01-10     690.714286\n",
      "2023-01-11     788.714286\n",
      "2023-01-12     886.571429\n",
      "2023-01-13     984.142857\n",
      "2023-01-14    1083.000000\n",
      "2023-01-15    1183.428571\n",
      "Name: price, dtype: float64\n"
     ]
    }
   ],
   "source": [
    "\n",
    "rolling_avg = df['price'].rolling(window=7).mean()\n",
    "print(rolling_avg.head(15))\n"
   ]
  },
  {
   "cell_type": "code",
   "execution_count": 6,
   "id": "56c604a3",
   "metadata": {},
   "outputs": [
    {
     "name": "stdout",
     "output_type": "stream",
     "text": [
      "date\n",
      "2023-01-01     393.857143\n",
      "2023-01-02     393.857143\n",
      "2023-01-03     393.857143\n",
      "2023-01-04     393.857143\n",
      "2023-01-05     393.857143\n",
      "2023-01-06     393.857143\n",
      "2023-01-07     393.857143\n",
      "2023-01-08     493.000000\n",
      "2023-01-09     593.571429\n",
      "2023-01-10     690.714286\n",
      "2023-01-11     788.714286\n",
      "2023-01-12     886.571429\n",
      "2023-01-13     984.142857\n",
      "2023-01-14    1083.000000\n",
      "2023-01-15    1183.428571\n",
      "Name: price, dtype: float64\n"
     ]
    },
    {
     "name": "stderr",
     "output_type": "stream",
     "text": [
      "C:\\Users\\hp\\AppData\\Local\\Temp\\ipykernel_17992\\1209076698.py:2: FutureWarning: Series.fillna with 'method' is deprecated and will raise in a future version. Use obj.ffill() or obj.bfill() instead.\n",
      "  rolling_filled = rolling_avg.fillna(method='bfill')\n"
     ]
    }
   ],
   "source": [
    "# Forward fill to handle NaN values at the start\n",
    "rolling_filled = rolling_avg.fillna(method='bfill')\n",
    "print(rolling_filled.head(15))"
   ]
  },
  {
   "cell_type": "markdown",
   "id": "ade6a230",
   "metadata": {},
   "source": [
    "### Task 3: Time-based operations\n",
    "Your task: Calculate the day-over-day percentage change in price\n",
    "Expected: A Series with percentage changes"
   ]
  },
  {
   "cell_type": "code",
   "execution_count": 7,
   "id": "165b882b",
   "metadata": {},
   "outputs": [
    {
     "name": "stdout",
     "output_type": "stream",
     "text": [
      "date\n",
      "2023-01-01          NaN\n",
      "2023-01-02    98.888889\n",
      "2023-01-03    63.687151\n",
      "2023-01-04    34.129693\n",
      "2023-01-05    28.244275\n",
      "2023-01-06    20.238095\n",
      "2023-01-07    14.191419\n",
      "2023-01-08    13.294798\n",
      "2023-01-09    12.627551\n",
      "2023-01-10    10.192525\n",
      "2023-01-11    10.894142\n",
      "2023-01-12    10.194625\n",
      "2023-01-13     8.410429\n",
      "2023-01-14     7.370054\n",
      "2023-01-15     7.442197\n",
      "Name: price, dtype: float64\n"
     ]
    }
   ],
   "source": [
    "\n",
    "pct_change = df['price'].pct_change() * 100\n",
    "print(pct_change.head(15))"
   ]
  },
  {
   "cell_type": "code",
   "execution_count": 8,
   "id": "430a901a",
   "metadata": {},
   "outputs": [
    {
     "name": "stdout",
     "output_type": "stream",
     "text": [
      "            price  pct_change\n",
      "date                         \n",
      "2023-01-01     90         NaN\n",
      "2023-01-02    179        99.0\n",
      "2023-01-03    293        64.0\n",
      "2023-01-04    393        34.0\n",
      "2023-01-05    504        28.0\n",
      "2023-01-06    606        20.0\n",
      "2023-01-07    692        14.0\n",
      "2023-01-08    784        13.0\n",
      "2023-01-09    883        13.0\n",
      "2023-01-10    973        10.0\n",
      "2023-01-11   1079        11.0\n",
      "2023-01-12   1189        10.0\n",
      "2023-01-13   1289         8.0\n",
      "2023-01-14   1384         7.0\n",
      "2023-01-15   1487         7.0\n"
     ]
    }
   ],
   "source": [
    "# Merge the DataFrames to include the percentage change so i can see it alongside the original price data\n",
    "merged = pd.merge(df, pct_change.rename('pct_change'), on='date')\n",
    "print(merged.round().head(15))"
   ]
  },
  {
   "cell_type": "markdown",
   "id": "64a68013",
   "metadata": {},
   "source": [
    "### Task 4: Handling missing data\n",
    "Create some missing values"
   ]
  },
  {
   "cell_type": "code",
   "execution_count": 9,
   "id": "323ea444",
   "metadata": {},
   "outputs": [
    {
     "name": "stdout",
     "output_type": "stream",
     "text": [
      "             price\n",
      "date              \n",
      "2023-01-01    90.0\n",
      "2023-01-02   179.0\n",
      "2023-01-03   293.0\n",
      "2023-01-04   393.0\n",
      "2023-01-05   504.0\n",
      "2023-01-06   606.0\n",
      "2023-01-07   692.0\n",
      "2023-01-08   784.0\n",
      "2023-01-09   883.0\n",
      "2023-01-10   973.0\n",
      "2023-01-11     NaN\n",
      "2023-01-12     NaN\n",
      "2023-01-13     NaN\n",
      "2023-01-14     NaN\n",
      "2023-01-15     NaN\n",
      "2023-01-16  1585.0\n",
      "2023-01-17  1692.0\n",
      "2023-01-18  1790.0\n",
      "2023-01-19  1893.0\n",
      "2023-01-20  2004.0\n"
     ]
    }
   ],
   "source": [
    "df_missing = df.copy()\n",
    "df_missing.iloc[10:15] = np.nan\n",
    "print(df_missing.head(20))\n"
   ]
  },
  {
   "cell_type": "markdown",
   "id": "4f6c5528",
   "metadata": {},
   "source": [
    "### Your task: Handle the missing values using the following methods:\n",
    " 1. Forward fill\n",
    " 2. Linear interpolation\n",
    " 3. Rolling window imputation (7-day window)\n",
    " Expected: Three different Series with different imputation methods"
   ]
  },
  {
   "cell_type": "code",
   "execution_count": 10,
   "id": "463500bc",
   "metadata": {},
   "outputs": [
    {
     "name": "stdout",
     "output_type": "stream",
     "text": [
      "Forward Fill:\n",
      "              price\n",
      "date              \n",
      "2023-01-01    90.0\n",
      "2023-01-02   179.0\n",
      "2023-01-03   293.0\n",
      "2023-01-04   393.0\n",
      "2023-01-05   504.0\n",
      "2023-01-06   606.0\n",
      "2023-01-07   692.0\n",
      "2023-01-08   784.0\n",
      "2023-01-09   883.0\n",
      "2023-01-10   973.0\n",
      "2023-01-11   973.0\n",
      "2023-01-12   973.0\n",
      "2023-01-13   973.0\n",
      "2023-01-14   973.0\n",
      "2023-01-15   973.0\n",
      "2023-01-16  1585.0\n",
      "2023-01-17  1692.0\n",
      "2023-01-18  1790.0\n",
      "2023-01-19  1893.0\n",
      "2023-01-20  2004.0\n"
     ]
    },
    {
     "name": "stderr",
     "output_type": "stream",
     "text": [
      "C:\\Users\\hp\\AppData\\Local\\Temp\\ipykernel_17992\\3184226703.py:1: FutureWarning: DataFrame.fillna with 'method' is deprecated and will raise in a future version. Use obj.ffill() or obj.bfill() instead.\n",
      "  ffill = df_missing.fillna(method='ffill')\n"
     ]
    }
   ],
   "source": [
    "\n",
    "ffill = df_missing.fillna(method='ffill')\n",
    "interpolated = df_missing.interpolate(method='linear')\n",
    "rolling = df_missing.rolling(window=7, min_periods=1).mean()\n",
    "print(\"Forward Fill:\\n\", ffill.head(20))"
   ]
  },
  {
   "cell_type": "code",
   "execution_count": 11,
   "id": "502daf8e",
   "metadata": {},
   "outputs": [
    {
     "name": "stdout",
     "output_type": "stream",
     "text": [
      "Linear Interpolation:\n",
      "              price\n",
      "date              \n",
      "2023-01-01    90.0\n",
      "2023-01-02   179.0\n",
      "2023-01-03   293.0\n",
      "2023-01-04   393.0\n",
      "2023-01-05   504.0\n",
      "2023-01-06   606.0\n",
      "2023-01-07   692.0\n",
      "2023-01-08   784.0\n",
      "2023-01-09   883.0\n",
      "2023-01-10   973.0\n",
      "2023-01-11  1075.0\n",
      "2023-01-12  1177.0\n",
      "2023-01-13  1279.0\n",
      "2023-01-14  1381.0\n",
      "2023-01-15  1483.0\n",
      "2023-01-16  1585.0\n",
      "2023-01-17  1692.0\n",
      "2023-01-18  1790.0\n",
      "2023-01-19  1893.0\n",
      "2023-01-20  2004.0\n"
     ]
    }
   ],
   "source": [
    "print(\"Linear Interpolation:\\n\", interpolated.head(20))"
   ]
  },
  {
   "cell_type": "code",
   "execution_count": 12,
   "id": "ffeaffa1",
   "metadata": {},
   "outputs": [
    {
     "name": "stdout",
     "output_type": "stream",
     "text": [
      "Rolling Window Imputation:\n",
      "                   price\n",
      "date                   \n",
      "2023-01-01    90.000000\n",
      "2023-01-02   134.500000\n",
      "2023-01-03   187.333333\n",
      "2023-01-04   238.750000\n",
      "2023-01-05   291.800000\n",
      "2023-01-06   344.166667\n",
      "2023-01-07   393.857143\n",
      "2023-01-08   493.000000\n",
      "2023-01-09   593.571429\n",
      "2023-01-10   690.714286\n",
      "2023-01-11   740.333333\n",
      "2023-01-12   787.600000\n",
      "2023-01-13   833.000000\n",
      "2023-01-14   880.000000\n",
      "2023-01-15   928.000000\n",
      "2023-01-16  1279.000000\n",
      "2023-01-17  1638.500000\n",
      "2023-01-18  1689.000000\n",
      "2023-01-19  1740.000000\n",
      "2023-01-20  1792.800000\n"
     ]
    }
   ],
   "source": [
    "print(\"Rolling Window Imputation:\\n\", rolling.head(20))\n"
   ]
  },
  {
   "cell_type": "markdown",
   "id": "a46997f6",
   "metadata": {},
   "source": [
    "### Task 6: Visualization\n",
    "Your task: Create a plot with the following elements:\n",
    " 1. Original price series\n",
    " 2. 7-day rolling average\n",
    " 3. Highlight periods with missing values\n",
    " Expected: A single plot with all elements clearly labeled\n"
   ]
  },
  {
   "cell_type": "code",
   "execution_count": 13,
   "id": "5f81f104",
   "metadata": {},
   "outputs": [
    {
     "data": {
      "image/png": "[encoded data removed]",
      "text/plain": [
       "<Figure size 1400x700 with 1 Axes>"
      ]
     },
     "metadata": {},
     "output_type": "display_data"
    }
   ],
   "source": [
    "# --- 2. Calculations ---\n",
    "# Calculate the 7-day rolling average. The `min_periods=1` ensures it calculates\n",
    "# even if there are fewer than 7 data points at the start.\n",
    "df_missing['rolling_avg_7d'] = df_missing['price'].rolling(window=7, min_periods=1).mean()\n",
    "# Identify missing values\n",
    "df_missing['is_missing'] = df_missing['price'].isna()\n",
    "# --- 3. Plotting ---\n",
    "plt.figure(figsize=(14, 7))\n",
    "plt.plot(df_missing.index, df_missing['price'], label='Original Price', color='blue')\n",
    "plt.plot(df_missing.index, df_missing['rolling_avg_7d'], label='7-Day Rolling Average', color='orange')\n",
    "# Highlight missing value periods\n",
    "plt.fill_between(df_missing.index, df_missing['price'].min(), df_missing['price'].max(), where=df_missing['is_missing'], color='red', alpha=0.3, label='Missing Values')\n",
    "plt.title('Price Time Series with Rolling Average')\n",
    "plt.xlabel('Date')\n",
    "plt.ylabel('Price')\n",
    "plt.legend()\n",
    "plt.show()\n"
   ]
  },
  {
   "cell_type": "code",
   "execution_count": null,
   "id": "e0866f23",
   "metadata": {},
   "outputs": [],
   "source": []
  }
 ],
 "metadata": {
  "kernelspec": {
   "display_name": "base",
   "language": "python",
   "name": "python3"
  },
  "language_info": {
   "codemirror_mode": {
    "name": "ipython",
    "version": 3
   },
   "file_extension": ".py",
   "mimetype": "text/x-python",
   "name": "python",
   "nbconvert_exporter": "python",
   "pygments_lexer": "ipython3",
   "version": "3.13.5"
  }
 },
 "nbformat": 4,
 "nbformat_minor": 5
}
