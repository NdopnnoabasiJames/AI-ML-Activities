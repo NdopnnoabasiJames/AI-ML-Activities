{
 "cells": [
  {
   "cell_type": "code",
   "execution_count": 1,
   "id": "53416a4e",
   "metadata": {},
   "outputs": [],
   "source": [
    "import pandas as pd\n",
    "import numpy as np\n",
    "\n",
    "# Create date range\n",
    "dates = pd.date_range('2023-01-01', periods=7, freq='D')\n",
    "\n",
    "# Create time series data\n",
    "ts = pd.Series(np.random.randn(7), index=dates)\n",
    "\n",
    "# Create DataFrame with datetime index\n",
    "df = pd.DataFrame({\n",
    "    'value': np.random.randn(100),\n",
    "    'date': pd.date_range('2023-01-01', periods=100, freq='D')\n",
    "}).set_index('date')"
   ]
  },
  {
   "cell_type": "code",
   "execution_count": null,
   "id": "30ca3125",
   "metadata": {},
   "outputs": [],
   "source": [
    "# Select by label\n",
    "ts['2023-01-03']\n",
    "\n",
    "# Select by partial string\n",
    "df['2023-01']  # All of January 2023\n",
    "df['2023-01-10':'2023-01-20']  # Date range\n",
    "\n",
    "# First/last n periods\n",
    "df.first('5D')  # First 5 days\n",
    "df.last('2W')   # Last 2 weeks"
   ]
  }
 ],
 "metadata": {
  "kernelspec": {
   "display_name": "base",
   "language": "python",
   "name": "python3"
  },
  "language_info": {
   "codemirror_mode": {
    "name": "ipython",
    "version": 3
   },
   "file_extension": ".py",
   "mimetype": "text/x-python",
   "name": "python",
   "nbconvert_exporter": "python",
   "pygments_lexer": "ipython3",
   "version": "3.13.5"
  }
 },
 "nbformat": 4,
 "nbformat_minor": 5
}
