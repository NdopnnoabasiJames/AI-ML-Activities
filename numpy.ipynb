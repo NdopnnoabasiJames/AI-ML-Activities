{
  "cells": [
    {
      "cell_type": "markdown",
      "metadata": {
        "id": "view-in-github",
        "colab_type": "text"
      },
      "source": [
        "<a href=\"https://colab.research.google.com/github/NdopnnoabasiJames/AI-ML-Activities/blob/main/numpy.ipynb\" target=\"_parent\"><img src=\"https://colab.research.google.com/assets/colab-badge.svg\" alt=\"Open In Colab\"/></a>"
      ]
    },
    {
      "cell_type": "markdown",
      "id": "a9b4d9e0-a072-44eb-940f-c84a66f9623c",
      "metadata": {
        "id": "a9b4d9e0-a072-44eb-940f-c84a66f9623c"
      },
      "source": [
        "NumPy Notes\n",
        "\n",
        "NumPy (Numerical Python) is a powerful library in Python used for numerical computing. It provides fast, efficient, and easy-to-use tools for working with arrays, mathematical functions, and scientific computing.\n",
        "\n",
        "Key pillars of NumPy\n",
        "\n",
        "1. NumPy Arrays\n",
        "Definition: An array in NumPy is a grid of values, all of the same data type, and indexed by a tuple of non-negative integers.\n",
        "\n",
        "NumPy arrays are more efficient than Python lists because they store data in contiguous memory.\n",
        "\n",
        "Arrays allow vectorized operations (fast element-wise operations without loops)."
      ]
    },
    {
      "cell_type": "code",
      "execution_count": null,
      "id": "f1c1d0eb-32cd-4b67-af02-06495c332894",
      "metadata": {
        "id": "f1c1d0eb-32cd-4b67-af02-06495c332894"
      },
      "outputs": [],
      "source": [
        "import numpy as np\n",
        "\n",
        "# 1D array\n",
        "arr1 = np.array([1, 2, 3, 4, 5])\n",
        "print(\"1D Array:\", arr1)\n",
        "\n",
        "# 2D array\n",
        "arr2 = np.array([[1, 2, 3], [4, 5, 6]])\n",
        "print(\"2D Array:\\n\", arr2)\n",
        "\n",
        "# Array with all zeros\n",
        "zeros = np.zeros((2, 3))\n",
        "print(\"Zeros Array:\\n\", zeros)\n",
        "\n",
        "# Array with all ones\n",
        "ones = np.ones((3, 3))\n",
        "print(\"Ones Array:\\n\", ones)\n",
        "\n",
        "# Array with a range of numbers\n",
        "range_array = np.arange(0, 10, 2)  # start, stop, step\n",
        "print(\"Range Array:\", range_array)\n",
        "\n",
        "# Evenly spaced numbers\n",
        "linspace_array = np.linspace(0, 1, 5)  # 5 evenly spaced numbers between 0 and 1\n",
        "print(\"Linspace Array:\", linspace_array)\n"
      ]
    },
    {
      "cell_type": "markdown",
      "id": "62ef0191-6881-47c5-8e96-23ab466fd908",
      "metadata": {
        "id": "62ef0191-6881-47c5-8e96-23ab466fd908"
      },
      "source": [
        "Array Attributes\n",
        "\n",
        "You can check details about a NumPy array:"
      ]
    },
    {
      "cell_type": "code",
      "execution_count": null,
      "id": "7a1de360-2e42-4d0e-b916-f72a0b3a88a8",
      "metadata": {
        "id": "7a1de360-2e42-4d0e-b916-f72a0b3a88a8"
      },
      "outputs": [],
      "source": [
        "arr = np.array([[1, 2, 3], [4, 5, 6]])\n",
        "print(\"Shape:\", arr.shape)        # (rows, columns)\n",
        "print(\"Dimensions:\", arr.ndim)    # Number of dimensions\n",
        "print(\"Data type:\", arr.dtype)    # Type of data\n",
        "print(\"Size:\", arr.size)          # Total number of elements\n"
      ]
    },
    {
      "cell_type": "markdown",
      "id": "bd3a023e-63ed-4a5e-9375-58c2a9df707d",
      "metadata": {
        "id": "bd3a023e-63ed-4a5e-9375-58c2a9df707d"
      },
      "source": [
        "2. Vectorization\n",
        "Definition: Vectorization means performing operations on entire arrays at once, without writing loops manually.\n",
        "It uses pre-compiled C code under the hood, which makes it much faster than using Python loops."
      ]
    },
    {
      "cell_type": "code",
      "execution_count": null,
      "id": "9206ac23-c0da-4386-b855-9206dbe6719a",
      "metadata": {
        "id": "9206ac23-c0da-4386-b855-9206dbe6719a"
      },
      "outputs": [],
      "source": [
        "#Example without Vectorization\n",
        "\n",
        "# Using Python loop\n",
        "nums = [1, 2, 3, 4, 5]\n",
        "squares = []\n",
        "for i in nums:\n",
        "    squares.append(i**2)\n",
        "print(\"Squares:\", squares)\n"
      ]
    },
    {
      "cell_type": "code",
      "execution_count": null,
      "id": "8fb28033-72e5-4592-9650-42440c53c3dd",
      "metadata": {
        "id": "8fb28033-72e5-4592-9650-42440c53c3dd"
      },
      "outputs": [],
      "source": [
        "#Example with Vectorization\n",
        "\n",
        "nums = np.array([1, 2, 3, 4, 5])\n",
        "squares = nums ** 2  # Vectorized operation\n",
        "print(\"Squares:\", squares)\n",
        "\n",
        "\n",
        "# Why it's better: NumPy internally uses C speed, making this much faster and cleaner."
      ]
    },
    {
      "cell_type": "markdown",
      "id": "13d9038e-3e41-4de1-a26f-faaad0288c63",
      "metadata": {
        "id": "13d9038e-3e41-4de1-a26f-faaad0288c63"
      },
      "source": [
        "3. Broadcasting\n",
        "   \n",
        "Definition: Broadcasting is NumPy's way of handling arithmetic operations between arrays of different shapes.\n",
        "\n",
        "The smaller array is automatically expanded (broadcast) to match the shape of the larger array.\n",
        "\n",
        "This allows for element-wise operations without explicitly reshaping arrays."
      ]
    },
    {
      "cell_type": "code",
      "execution_count": null,
      "id": "7ac21c19-ce3d-4f06-8213-e8624c50bc6c",
      "metadata": {
        "id": "7ac21c19-ce3d-4f06-8213-e8624c50bc6c"
      },
      "outputs": [],
      "source": [
        "arr = np.array([[1, 2, 3], [4, 5, 6]])\n",
        "add = arr + 5  # Adding a scalar to a 2D array\n",
        "print(add)\n"
      ]
    },
    {
      "cell_type": "code",
      "execution_count": null,
      "id": "847ccf9f-5eac-457e-b314-5def62ddac09",
      "metadata": {
        "id": "847ccf9f-5eac-457e-b314-5def62ddac09"
      },
      "outputs": [],
      "source": [
        "#BroadCasting with Arrays\n",
        "\n",
        "arr1 = np.array([[1, 2, 3], [4, 5, 6]])\n",
        "arr2 = np.array([1, 2, 3])  # 1D array\n",
        "\n",
        "result = arr1 + arr2  # arr2 is broadcast across arr1\n",
        "print(result)\n"
      ]
    },
    {
      "cell_type": "markdown",
      "id": "8e3bfded-7319-454b-965d-0b774fcdcb13",
      "metadata": {
        "id": "8e3bfded-7319-454b-965d-0b774fcdcb13"
      },
      "source": [
        "4. ndarray (N-Dimensional Array)\n",
        "Definition: The ndarray is the core data structure in NumPy.\n",
        "\n",
        "It represents n-dimensional arrays that can store items of the same data type.\n",
        "\n",
        "Think of it as a generalization of 1D, 2D, and 3D arrays."
      ]
    },
    {
      "cell_type": "code",
      "execution_count": null,
      "id": "3f6a6066-9cc2-438b-960b-5f9e9e3e4390",
      "metadata": {
        "id": "3f6a6066-9cc2-438b-960b-5f9e9e3e4390"
      },
      "outputs": [],
      "source": [
        "#Creating an ndarry\n",
        "\n",
        "data = np.array([[1, 2, 3], [4, 5, 6]])\n",
        "print(data)\n",
        "print(\"Type:\", type(data))\n"
      ]
    },
    {
      "cell_type": "code",
      "execution_count": null,
      "id": "0e845eb4-4fad-43be-a3cc-aa60d9540dfa",
      "metadata": {
        "id": "0e845eb4-4fad-43be-a3cc-aa60d9540dfa"
      },
      "outputs": [],
      "source": [
        "#Indexing and Slizing\n",
        "\n",
        "arr = np.array([10, 20, 30, 40, 50])\n",
        "\n",
        "# Accessing elements\n",
        "print(arr[0])   # First element\n",
        "print(arr[-1])  # Last element\n",
        "\n",
        "# Slicing\n",
        "print(arr[1:4])  # From index 1 to 3\n"
      ]
    },
    {
      "cell_type": "code",
      "execution_count": null,
      "id": "4ff10b88-4bbc-4f8b-8d60-95a897babbde",
      "metadata": {
        "id": "4ff10b88-4bbc-4f8b-8d60-95a897babbde"
      },
      "outputs": [],
      "source": [
        "#2d Array Indexing\n",
        "\n",
        "arr2d = np.array([[1, 2, 3], [4, 5, 6]])\n",
        "print(arr2d[0, 0])  # Row 0, Column 0 → 1\n",
        "print(arr2d[1, 2])  # Row 1, Column 2 → 6\n"
      ]
    },
    {
      "cell_type": "markdown",
      "id": "82668fb9-caa9-4a92-a5d3-aa72d0cd5423",
      "metadata": {
        "id": "82668fb9-caa9-4a92-a5d3-aa72d0cd5423"
      },
      "source": [
        "Practice Exercises\n",
        "Exercise 1: Array Creation\n",
        "\n",
        "Create:\n",
        "\n",
        "A 1D array containing numbers from 1 to 10.\n",
        "\n",
        "A 2D array of shape (3,3) filled with ones.\n",
        "\n",
        "A range of even numbers between 2 and 20."
      ]
    },
    {
      "cell_type": "code",
      "execution_count": null,
      "id": "cde24616-d0e9-41da-9ae2-20665cb95e89",
      "metadata": {
        "id": "cde24616-d0e9-41da-9ae2-20665cb95e89"
      },
      "outputs": [],
      "source": [
        "ourarr = np.ones((3, 3))\n",
        "print(ourarr)"
      ]
    },
    {
      "cell_type": "code",
      "execution_count": null,
      "id": "92a80c7c-c320-4670-a71f-afd3e5be6408",
      "metadata": {
        "id": "92a80c7c-c320-4670-a71f-afd3e5be6408"
      },
      "outputs": [],
      "source": [
        "rang = np.arange(2, 20, 2)\n",
        "print(rang)"
      ]
    },
    {
      "cell_type": "markdown",
      "id": "ddb67ed6-c91e-4c88-bf39-e4fbb4fde83b",
      "metadata": {
        "id": "ddb67ed6-c91e-4c88-bf39-e4fbb4fde83b"
      },
      "source": [
        "Exercise 2: Vectorization\n",
        "\n",
        "Given a list [2, 4, 6, 8, 10], use NumPy to:\n",
        "\n",
        "Multiply every element by 3.\n",
        "\n",
        "Find the square of each element."
      ]
    },
    {
      "cell_type": "code",
      "execution_count": null,
      "id": "a91b3c4b-6469-47ed-ba62-531a71bfb358",
      "metadata": {
        "id": "a91b3c4b-6469-47ed-ba62-531a71bfb358"
      },
      "outputs": [],
      "source": [
        "mylist = np.array([2, 4, 6, 8, 10])\n",
        "\n",
        "threes = mylist * 3\n",
        "\n",
        "print(multiple)"
      ]
    },
    {
      "cell_type": "code",
      "execution_count": null,
      "id": "a69a0447-397f-4c8b-be8f-db25cb07cdd7",
      "metadata": {
        "id": "a69a0447-397f-4c8b-be8f-db25cb07cdd7"
      },
      "outputs": [],
      "source": [
        "squares = mylist*2\n",
        "print(squares)"
      ]
    },
    {
      "cell_type": "code",
      "execution_count": null,
      "id": "c0209a63-fd30-441d-baff-a03608fb6d13",
      "metadata": {
        "id": "c0209a63-fd30-441d-baff-a03608fb6d13"
      },
      "outputs": [],
      "source": []
    }
  ],
  "metadata": {
    "kernelspec": {
      "display_name": "Python 3 (ipykernel)",
      "language": "python",
      "name": "python3"
    },
    "language_info": {
      "codemirror_mode": {
        "name": "ipython",
        "version": 3
      },
      "file_extension": ".py",
      "mimetype": "text/x-python",
      "name": "python",
      "nbconvert_exporter": "python",
      "pygments_lexer": "ipython3",
      "version": "3.13.5"
    },
    "colab": {
      "provenance": [],
      "include_colab_link": true
    }
  },
  "nbformat": 4,
  "nbformat_minor": 5
}