{
 "cells": [
  {
   "cell_type": "markdown",
   "id": "1714b821",
   "metadata": {},
   "source": [
    "# Simple Linear Regression — Beginner Summary"
   ]
  },
  {
   "cell_type": "markdown",
   "id": "d6f75f8f",
   "metadata": {},
   "source": [
    "### 1. What Is Linear Regression?\n",
    "\n",
    "Linear Regression is a way of predicting a value (like a student’s score) based on another value (like hours studied). \n",
    "It tries to find a straight line that best fits the data.\n",
    "\n",
    "That line can be written as: y = mx + b\n",
    "\n",
    "Where:\n",
    "\n",
    "x → input (hours studied)\n",
    "\n",
    "y → output (score)\n",
    "\n",
    "m → slope (how much y (the output i.e scores) changes when x (the input i.e hours studied) increases by 1)\n",
    "\n",
    "b → intercept (the value of y when x = 0)"
   ]
  },
  {
   "cell_type": "markdown",
   "id": "9e411536",
   "metadata": {},
   "source": [
    "### 2. The Goal (The whole point of Linear Regression)\n",
    "\n",
    "We want to find the best line that minimizes the difference between:\n",
    "\n",
    "The actual values (real scores)\n",
    "\n",
    "The predicted values (model’s guesses)\n",
    "\n",
    "This difference is what we call error or loss."
   ]
  },
  {
   "cell_type": "markdown",
   "id": "37785a8f",
   "metadata": {},
   "source": [
    "### 3. Cost Function (Mean Squared Error - MSE)\n",
    "\n",
    "The cost function tells us how wrong our model is.\n",
    "\n",
    "It simply means: “Take all the prediction errors, square them (to remove negatives), then average them.”\n",
    "\n",
    "A lower cost = a better model."
   ]
  },
  {
   "cell_type": "code",
   "execution_count": 9,
   "id": "66e014c3",
   "metadata": {},
   "outputs": [
    {
     "name": "stdout",
     "output_type": "stream",
     "text": [
      "MSE: 9.2075\n"
     ]
    }
   ],
   "source": [
    "# Example code to calculate Mean Squared Error (MSE) in Python\n",
    "\n",
    "import numpy as np\n",
    "\n",
    "# Study hours (x) and corresponding scores (y)\n",
    "x = np.array([1, 2, 3, 4, 5])\n",
    "y = np.array([2, 4, 5, 4, 5])\n",
    "\n",
    "# Let's assume our model predicts using m=0.05, b=1\n",
    "m = 0.05\n",
    "b = 1\n",
    "\n",
    "# Predicted values\n",
    "y_pred = m * x + b\n",
    "\n",
    "# Calculate Mean Squared Error\n",
    "mse = np.mean((y - y_pred) ** 2)\n",
    "print(\"MSE:\", mse)\n"
   ]
  },
  {
   "cell_type": "markdown",
   "id": "b72bcfb5",
   "metadata": {},
   "source": [
    "We’re checking how far off our predicted values are from the actual ones. The smaller the MSE, the better the line fits the data."
   ]
  },
  {
   "cell_type": "markdown",
   "id": "cbc85292",
   "metadata": {},
   "source": [
    "### 4. Gradient Descent — How the Model Learns\n",
    "\n",
    "The model starts with random guesses for m and b,\n",
    "then keeps adjusting them to reduce the cost function.\n",
    "\n",
    "Each adjustment follows this logic:\n",
    "\n",
    "If the cost is high, tweak m and b.\n",
    "\n",
    "Repeat until cost becomes very small.\n",
    "\n",
    "This process is called gradient descent — it’s just the model learning by trial and error."
   ]
  },
  {
   "cell_type": "code",
   "execution_count": 27,
   "id": "b95a8c50",
   "metadata": {},
   "outputs": [
    {
     "name": "stdout",
     "output_type": "stream",
     "text": [
      "Learned m: 0.6176946148762643\n",
      "Learned b: 2.136116825825789\n"
     ]
    }
   ],
   "source": [
    "# Example code to perform Gradient Descent for Linear Regression from scratch\n",
    "import numpy as np\n",
    "\n",
    "# Data\n",
    "x = np.array([1, 2, 3, 4, 5])\n",
    "y = np.array([2, 4, 5, 4, 5])\n",
    "\n",
    "# Initialize slope (m) and intercept (b)\n",
    "m = 0\n",
    "b = 0\n",
    "\n",
    "# Learning rate (controls how fast we adjust)\n",
    "L = 0.01\n",
    "epochs = 1000  # number of times to run the loop\n",
    "\n",
    "n = len(x)\n",
    "\n",
    "for _ in range(epochs):\n",
    "    y_pred = m * x + b\n",
    "    # Compute gradients\n",
    "    dm = (-2/n) * np.sum(x * (y - y_pred))\n",
    "    db = (-2/n) * np.sum(y - y_pred)\n",
    "    \n",
    "    # Update m and b\n",
    "    m -= L * dm\n",
    "    b -= L * db\n",
    "\n",
    "print(\"Learned m:\", m)\n",
    "print(\"Learned b:\", b)\n"
   ]
  },
  {
   "cell_type": "markdown",
   "id": "f91a9f58",
   "metadata": {},
   "source": [
    "Each time, the model checks how wrong it is and slightly adjusts m and b to make predictions more accurate."
   ]
  },
  {
   "cell_type": "code",
   "execution_count": 28,
   "id": "96c585e1",
   "metadata": {},
   "outputs": [
    {
     "data": {
      "image/png": "[encoded data removed]",
      "text/plain": [
       "<Figure size 640x480 with 1 Axes>"
      ]
     },
     "metadata": {},
     "output_type": "display_data"
    }
   ],
   "source": [
    "import matplotlib.pyplot as plt\n",
    "\n",
    "plt.scatter(x, y, color='blue', label='Actual data')\n",
    "plt.plot(x, m * x + b, color='red', label='Predicted line')\n",
    "plt.xlabel('Hours Studied')\n",
    "plt.ylabel('Score')\n",
    "plt.legend()\n",
    "plt.show()\n"
   ]
  },
  {
   "cell_type": "markdown",
   "id": "edbf40cd",
   "metadata": {},
   "source": [
    "The dots are real data points, the red line is the model’s predictions.\n",
    "The closer the dots are to the line, the better our model."
   ]
  },
  {
   "cell_type": "markdown",
   "id": "6879edbd",
   "metadata": {},
   "source": [
    "### 6. Evaluating the Model\n",
    "\n",
    "We can check how good the model is using metrics like:\n",
    "\n",
    "MSE (Mean Squared Error) → how far off predictions are\n",
    "\n",
    "RMSE (Root Mean Squared Error) → easier to interpret (same units as y)\n",
    "\n",
    "R² (R-squared) → how well the line fits the data (1 means perfect fit)"
   ]
  },
  {
   "cell_type": "code",
   "execution_count": 30,
   "id": "a5f2b491",
   "metadata": {},
   "outputs": [
    {
     "name": "stdout",
     "output_type": "stream",
     "text": [
      "MSE: 0.4807428243098693\n",
      "RMSE: 0.6933562030514109\n",
      "R² Score: 0.5993809797417755\n"
     ]
    }
   ],
   "source": [
    "from sklearn.metrics import mean_squared_error, r2_score\n",
    "import numpy as np\n",
    "\n",
    "y_pred = m * x + b\n",
    "\n",
    "mse = mean_squared_error(y, y_pred)\n",
    "rmse = np.sqrt(mse)\n",
    "r2 = r2_score(y, y_pred)\n",
    "\n",
    "print(\"MSE:\", mse)\n",
    "print(\"RMSE:\", rmse)\n",
    "print(\"R² Score:\", r2)\n"
   ]
  },
  {
   "cell_type": "markdown",
   "id": "df7b6bcc",
   "metadata": {},
   "source": [
    "This helps us measure how accurate our model’s predictions are."
   ]
  },
  {
   "cell_type": "markdown",
   "id": "b07b77a8",
   "metadata": {},
   "source": [
    "### 8. Quiz\n",
    "\n",
    "Answer in your own words:\n",
    "\n",
    "What is the main goal of linear regression?\n",
    "\n",
    "What does the cost function tell us?\n",
    "\n",
    "Why do we use gradient descent?\n",
    "\n",
    "What does the learning rate control?\n",
    "\n",
    "How can we tell if a model is performing well?"
   ]
  },
  {
   "cell_type": "code",
   "execution_count": null,
   "id": "f06159c1",
   "metadata": {},
   "outputs": [],
   "source": []
  }
 ],
 "metadata": {
  "kernelspec": {
   "display_name": "base",
   "language": "python",
   "name": "python3"
  },
  "language_info": {
   "codemirror_mode": {
    "name": "ipython",
    "version": 3
   },
   "file_extension": ".py",
   "mimetype": "text/x-python",
   "name": "python",
   "nbconvert_exporter": "python",
   "pygments_lexer": "ipython3",
   "version": "3.13.5"
  }
 },
 "nbformat": 4,
 "nbformat_minor": 5
}
