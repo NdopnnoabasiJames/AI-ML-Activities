{
 "cells": [
  {
   "cell_type": "code",
   "execution_count": 1,
   "id": "f891013a",
   "metadata": {},
   "outputs": [
    {
     "data": {
      "image/png": "[encoded data removed]",
      "text/plain": [
       "<Figure size 640x480 with 1 Axes>"
      ]
     },
     "metadata": {},
     "output_type": "display_data"
    }
   ],
   "source": [
    "import numpy as np\n",
    "import matplotlib.pyplot as plt\n",
    "\n",
    "# Example data\n",
    "x = np.array([1, 2, 3, 4, 5])        # Hours studied\n",
    "y = np.array([2, 4, 5, 4, 5])        # Scores\n",
    "\n",
    "# Assume slope (m) = 0.8 and intercept (b) = 1.5\n",
    "m, b = 0.8, 1.5\n",
    "y_pred = m * x + b\n",
    "\n",
    "# Plot\n",
    "plt.scatter(x, y, color='blue', label='Actual points')\n",
    "plt.plot(x, y_pred, color='red', label='Prediction line')\n",
    "plt.xlabel(\"Hours studied\")\n",
    "plt.ylabel(\"Scores\")\n",
    "plt.grid()\n",
    "plt.legend()\n",
    "plt.show()\n"
   ]
  },
  {
   "cell_type": "code",
   "execution_count": 2,
   "id": "fdc7fffb",
   "metadata": {},
   "outputs": [
    {
     "name": "stdout",
     "output_type": "stream",
     "text": [
      "MSE: 0.5699999999999998\n"
     ]
    }
   ],
   "source": [
    "def mean_squared_error(y_true, y_pred):\n",
    "    return np.mean((y_true - y_pred) ** 2)\n",
    "\n",
    "# Example\n",
    "y_pred = m * x + b\n",
    "mse = mean_squared_error(y, y_pred)\n",
    "print(\"MSE:\", mse)\n"
   ]
  },
  {
   "cell_type": "code",
   "execution_count": 3,
   "id": "90e30070",
   "metadata": {},
   "outputs": [
    {
     "name": "stdout",
     "output_type": "stream",
     "text": [
      "m (slope): 0.62\n",
      "b (intercept): 2.14\n",
      "Predicted scores: [2.75381144 3.37150606 3.98920067 4.60689529 5.2245899 ]\n"
     ]
    }
   ],
   "source": [
    "import numpy as np\n",
    "\n",
    "# Data\n",
    "x = np.array([1, 2, 3, 4, 5])        # hours studied\n",
    "y = np.array([2, 4, 5, 4, 5])        # actual scores\n",
    "\n",
    "# Initialize parameters\n",
    "m = 0\n",
    "b = 0\n",
    "learning_rate = 0.01\n",
    "epochs = 1000  # number of times we'll adjust\n",
    "\n",
    "n = len(x)\n",
    "\n",
    "# Gradient Descent Loop\n",
    "for _ in range(epochs):\n",
    "    y_pred = m * x + b\n",
    "    # calculate gradients\n",
    "    dm = (-2/n) * np.sum(x * (y - y_pred))\n",
    "    db = (-2/n) * np.sum(y - y_pred)\n",
    "    # update parameters\n",
    "    m -= learning_rate * dm\n",
    "    b -= learning_rate * db\n",
    "\n",
    "print(f\"m (slope): {m:.2f}\")\n",
    "print(f\"b (intercept): {b:.2f}\")\n",
    "\n",
    "# Predictions after training\n",
    "predicted = m * x + b\n",
    "print(\"Predicted scores:\", predicted)\n"
   ]
  },
  {
   "cell_type": "code",
   "execution_count": null,
   "id": "453d0aa8",
   "metadata": {},
   "outputs": [
    {
     "name": "stdout",
     "output_type": "stream",
     "text": [
      "Predicted salaries: [24125. 31625. 39125. 50375. 59750.]\n"
     ]
    }
   ],
   "source": [
    "import numpy as np\n",
    "import pandas as pd\n",
    "from sklearn.linear_model import LinearRegression\n",
    "\n",
    "# Sample data\n",
    "data = {\n",
    "    'Experience': [1, 2, 3, 4, 5],\n",
    "    'Age': [22, 25, 28, 35, 40],\n",
    "    'Salary': [25000, 30000, 40000, 50000, 60000]\n",
    "}\n",
    "\n",
    "df = pd.DataFrame(data)\n",
    "\n",
    "X = df[['Experience', 'Age']]  # Independent variables\n",
    "y = df['Salary']               # Dependent variable\n",
    "\n",
    "# Create and train the model\n",
    "model = LinearRegression()\n",
    "model.fit(X, y)\n",
    "\n",
    "# Predictions\n",
    "predictions = model.predict(X)\n",
    "print(\"Predicted salaries:\", predictions)\n",
    "\n"
   ]
  },
  {
   "cell_type": "markdown",
   "id": "b1fc5cdd",
   "metadata": {},
   "source": [
    "Explanation:\n",
    "Here, the model learns how both Experience and Age together influence Salary.\n",
    "Each input feature gets its own weight (coefficient).\n",
    "\n",
    "You can check them using:"
   ]
  },
  {
   "cell_type": "code",
   "execution_count": 9,
   "id": "d67ff40d",
   "metadata": {},
   "outputs": [
    {
     "name": "stdout",
     "output_type": "stream",
     "text": [
      "Coefficients: [4687.5  937.5]\n",
      "Intercept: -1187.5\n"
     ]
    }
   ],
   "source": [
    "print(\"Coefficients:\", model.coef_)\n",
    "print(\"Intercept:\", model.intercept_)\n"
   ]
  },
  {
   "cell_type": "code",
   "execution_count": 8,
   "id": "d0cd4b84",
   "metadata": {},
   "outputs": [
    {
     "name": "stdout",
     "output_type": "stream",
     "text": [
      "Model R^2 Score: 0.9946646341463414\n"
     ]
    }
   ],
   "source": [
    "# Calculate Score of prediction\n",
    "score = model.score(X, y)\n",
    "print(\"Model R^2 Score:\", score)"
   ]
  },
  {
   "cell_type": "markdown",
   "id": "3a8a118a",
   "metadata": {},
   "source": [
    "### Feature Scaling & Normalization\n",
    "\n",
    "When your features have different ranges (like “Age” in years and “Salary” in dollars), the model can get confused.\n",
    "To fix that, we scale or normalize them so they’re on a similar range.\n",
    "\n",
    "Example using StandardScaler:"
   ]
  },
  {
   "cell_type": "code",
   "execution_count": 10,
   "id": "2e497555",
   "metadata": {},
   "outputs": [
    {
     "name": "stdout",
     "output_type": "stream",
     "text": [
      "Predicted salaries with scaled features: [24125. 31625. 39125. 50375. 59750.]\n"
     ]
    }
   ],
   "source": [
    "from sklearn.preprocessing import StandardScaler\n",
    "\n",
    "scaler = StandardScaler()\n",
    "X_scaled = scaler.fit_transform(X)\n",
    "\n",
    "model = LinearRegression()\n",
    "model.fit(X_scaled, y)\n",
    "predictions_scaled = model.predict(X_scaled)\n",
    "print(\"Predicted salaries with scaled features:\", predictions_scaled)\n"
   ]
  },
  {
   "cell_type": "markdown",
   "id": "1e661b49",
   "metadata": {},
   "source": [
    "### Handling Categorical Variables (Brief)\n",
    "\n",
    "Sometimes, data contains text values like “Male” or “Female”, or “City A”, “City B”.\n",
    "We can’t feed text directly into a model, so we use encoding.\n",
    "\n",
    "Example using OneHotEncoder:"
   ]
  },
  {
   "cell_type": "code",
   "execution_count": null,
   "id": "177045e7",
   "metadata": {},
   "outputs": [
    {
     "name": "stdout",
     "output_type": "stream",
     "text": [
      "[[0. 1. 0.]\n",
      " [1. 0. 0.]\n",
      " [0. 0. 1.]]\n"
     ]
    }
   ],
   "source": [
    "from sklearn.preprocessing import OneHotEncoder\n",
    "\n",
    "cities = np.array([['Lagos'], ['Abuja'], ['Uyo']])\n",
    "encoder = OneHotEncoder(sparse_output=False)\n",
    "encoded = encoder.fit_transform(cities)\n",
    "\n",
    "print(encoded)\n",
    "\n",
    "# This converts text into numeric form that the model can understand.\n"
   ]
  }
 ],
 "metadata": {
  "kernelspec": {
   "display_name": "base",
   "language": "python",
   "name": "python3"
  },
  "language_info": {
   "codemirror_mode": {
    "name": "ipython",
    "version": 3
   },
   "file_extension": ".py",
   "mimetype": "text/x-python",
   "name": "python",
   "nbconvert_exporter": "python",
   "pygments_lexer": "ipython3",
   "version": "3.13.7"
  }
 },
 "nbformat": 4,
 "nbformat_minor": 5
}
